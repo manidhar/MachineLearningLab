{
 "cells": [
  {
   "cell_type": "code",
   "execution_count": 1,
   "metadata": {},
   "outputs": [],
   "source": [
    "# Analyse player performance"
   ]
  },
  {
   "cell_type": "code",
   "execution_count": 2,
   "metadata": {},
   "outputs": [],
   "source": [
    "import pandas as pd"
   ]
  },
  {
   "cell_type": "code",
   "execution_count": 31,
   "metadata": {},
   "outputs": [],
   "source": [
    "df=pd.read_csv('deliveries_data.csv')\n",
    "players=pd.read_csv('players_data.csv')\n",
    "match_data=pd.read_csv('match_data.csv')"
   ]
  },
  {
   "cell_type": "code",
   "execution_count": 19,
   "metadata": {},
   "outputs": [
    {
     "name": "stdout",
     "output_type": "stream",
     "text": [
      "<class 'pandas.core.frame.DataFrame'>\n",
      "RangeIndex: 574 entries, 0 to 573\n",
      "Data columns (total 8 columns):\n",
      " #   Column         Non-Null Count  Dtype  \n",
      "---  ------         --------------  -----  \n",
      " 0   player_code    574 non-null    object \n",
      " 1   player_id      574 non-null    int64  \n",
      " 2   full_name      0 non-null      float64\n",
      " 3   country        574 non-null    object \n",
      " 4   role           505 non-null    object \n",
      " 5   batting_style  574 non-null    object \n",
      " 6   bowling_style  526 non-null    object \n",
      " 7   born           574 non-null    object \n",
      "dtypes: float64(1), int64(1), object(6)\n",
      "memory usage: 36.0+ KB\n"
     ]
    }
   ],
   "source": [
    "players.info()"
   ]
  },
  {
   "cell_type": "code",
   "execution_count": 24,
   "metadata": {},
   "outputs": [
    {
     "data": {
      "text/html": [
       "<div>\n",
       "<style scoped>\n",
       "    .dataframe tbody tr th:only-of-type {\n",
       "        vertical-align: middle;\n",
       "    }\n",
       "\n",
       "    .dataframe tbody tr th {\n",
       "        vertical-align: top;\n",
       "    }\n",
       "\n",
       "    .dataframe thead th {\n",
       "        text-align: right;\n",
       "    }\n",
       "</style>\n",
       "<table border=\"1\" class=\"dataframe\">\n",
       "  <thead>\n",
       "    <tr style=\"text-align: right;\">\n",
       "      <th></th>\n",
       "      <th>batting_team</th>\n",
       "      <th>bowling_team</th>\n",
       "      <th>batsman</th>\n",
       "      <th>bowler</th>\n",
       "      <th>over</th>\n",
       "      <th>ball</th>\n",
       "      <th>non_striker</th>\n",
       "      <th>total_runs</th>\n",
       "      <th>batsman_runs</th>\n",
       "      <th>extras_runs</th>\n",
       "      <th>match_id</th>\n",
       "      <th>wicket</th>\n",
       "      <th>wicket_kind</th>\n",
       "      <th>wicket_player_out</th>\n",
       "      <th>wicket_fielders</th>\n",
       "    </tr>\n",
       "  </thead>\n",
       "  <tbody>\n",
       "    <tr>\n",
       "      <th>0</th>\n",
       "      <td>Kolkata Knight Riders</td>\n",
       "      <td>Royal Challengers Bangalore</td>\n",
       "      <td>SC Ganguly</td>\n",
       "      <td>P Kumar</td>\n",
       "      <td>0</td>\n",
       "      <td>1</td>\n",
       "      <td>BB McCullum</td>\n",
       "      <td>1</td>\n",
       "      <td>0</td>\n",
       "      <td>1</td>\n",
       "      <td>1.0</td>\n",
       "      <td>0.0</td>\n",
       "      <td>NaN</td>\n",
       "      <td>NaN</td>\n",
       "      <td>NaN</td>\n",
       "    </tr>\n",
       "    <tr>\n",
       "      <th>1</th>\n",
       "      <td>Kolkata Knight Riders</td>\n",
       "      <td>Royal Challengers Bangalore</td>\n",
       "      <td>BB McCullum</td>\n",
       "      <td>P Kumar</td>\n",
       "      <td>0</td>\n",
       "      <td>2</td>\n",
       "      <td>SC Ganguly</td>\n",
       "      <td>0</td>\n",
       "      <td>0</td>\n",
       "      <td>0</td>\n",
       "      <td>1.0</td>\n",
       "      <td>0.0</td>\n",
       "      <td>NaN</td>\n",
       "      <td>NaN</td>\n",
       "      <td>NaN</td>\n",
       "    </tr>\n",
       "    <tr>\n",
       "      <th>2</th>\n",
       "      <td>Kolkata Knight Riders</td>\n",
       "      <td>Royal Challengers Bangalore</td>\n",
       "      <td>BB McCullum</td>\n",
       "      <td>P Kumar</td>\n",
       "      <td>0</td>\n",
       "      <td>3</td>\n",
       "      <td>SC Ganguly</td>\n",
       "      <td>1</td>\n",
       "      <td>0</td>\n",
       "      <td>1</td>\n",
       "      <td>1.0</td>\n",
       "      <td>0.0</td>\n",
       "      <td>NaN</td>\n",
       "      <td>NaN</td>\n",
       "      <td>NaN</td>\n",
       "    </tr>\n",
       "    <tr>\n",
       "      <th>3</th>\n",
       "      <td>Kolkata Knight Riders</td>\n",
       "      <td>Royal Challengers Bangalore</td>\n",
       "      <td>BB McCullum</td>\n",
       "      <td>P Kumar</td>\n",
       "      <td>0</td>\n",
       "      <td>4</td>\n",
       "      <td>SC Ganguly</td>\n",
       "      <td>0</td>\n",
       "      <td>0</td>\n",
       "      <td>0</td>\n",
       "      <td>1.0</td>\n",
       "      <td>0.0</td>\n",
       "      <td>NaN</td>\n",
       "      <td>NaN</td>\n",
       "      <td>NaN</td>\n",
       "    </tr>\n",
       "    <tr>\n",
       "      <th>4</th>\n",
       "      <td>Kolkata Knight Riders</td>\n",
       "      <td>Royal Challengers Bangalore</td>\n",
       "      <td>BB McCullum</td>\n",
       "      <td>P Kumar</td>\n",
       "      <td>0</td>\n",
       "      <td>5</td>\n",
       "      <td>SC Ganguly</td>\n",
       "      <td>0</td>\n",
       "      <td>0</td>\n",
       "      <td>0</td>\n",
       "      <td>1.0</td>\n",
       "      <td>0.0</td>\n",
       "      <td>NaN</td>\n",
       "      <td>NaN</td>\n",
       "      <td>NaN</td>\n",
       "    </tr>\n",
       "  </tbody>\n",
       "</table>\n",
       "</div>"
      ],
      "text/plain": [
       "            batting_team                 bowling_team      batsman   bowler  \\\n",
       "0  Kolkata Knight Riders  Royal Challengers Bangalore   SC Ganguly  P Kumar   \n",
       "1  Kolkata Knight Riders  Royal Challengers Bangalore  BB McCullum  P Kumar   \n",
       "2  Kolkata Knight Riders  Royal Challengers Bangalore  BB McCullum  P Kumar   \n",
       "3  Kolkata Knight Riders  Royal Challengers Bangalore  BB McCullum  P Kumar   \n",
       "4  Kolkata Knight Riders  Royal Challengers Bangalore  BB McCullum  P Kumar   \n",
       "\n",
       "   over  ball  non_striker  total_runs  batsman_runs  extras_runs  match_id  \\\n",
       "0     0     1  BB McCullum           1             0            1       1.0   \n",
       "1     0     2   SC Ganguly           0             0            0       1.0   \n",
       "2     0     3   SC Ganguly           1             0            1       1.0   \n",
       "3     0     4   SC Ganguly           0             0            0       1.0   \n",
       "4     0     5   SC Ganguly           0             0            0       1.0   \n",
       "\n",
       "   wicket wicket_kind wicket_player_out wicket_fielders  \n",
       "0     0.0         NaN               NaN             NaN  \n",
       "1     0.0         NaN               NaN             NaN  \n",
       "2     0.0         NaN               NaN             NaN  \n",
       "3     0.0         NaN               NaN             NaN  \n",
       "4     0.0         NaN               NaN             NaN  "
      ]
     },
     "execution_count": 24,
     "metadata": {},
     "output_type": "execute_result"
    }
   ],
   "source": [
    "df.head()"
   ]
  },
  {
   "cell_type": "code",
   "execution_count": 25,
   "metadata": {},
   "outputs": [],
   "source": [
    "p1_data=df[df['batsman']=='GJ Maxwell']"
   ]
  },
  {
   "cell_type": "code",
   "execution_count": 30,
   "metadata": {},
   "outputs": [
    {
     "data": {
      "text/plain": [
       "array([250., 254., 380., 387., 392., 401., 405., 407., 412., 416., 420.,\n",
       "       427., 429., 433., 438., 442., 446., 454., 455., 457., 458., 459.,\n",
       "       463., 470., 474., 477., 492., 497., 501., 505., 507., 510., 520.,\n",
       "       524., 527., 530., 535., 538., 545., 549., 553., 560., 582., 585.,\n",
       "       588., 592., 596., 599., 603., 609., 619., 623., 625., 627., 631.,\n",
       "       675., 678., 682., 688., 691., 695., 699., 701., 705., 711., 721.,\n",
       "       724., 758., 763., 765., 769., 773., 778., 780., 792., 794., 799.,\n",
       "       806.])"
      ]
     },
     "execution_count": 30,
     "metadata": {},
     "output_type": "execute_result"
    }
   ],
   "source": [
    "p1_data['match_id'].unique()"
   ]
  },
  {
   "cell_type": "code",
   "execution_count": 32,
   "metadata": {},
   "outputs": [
    {
     "name": "stdout",
     "output_type": "stream",
     "text": [
      "<class 'pandas.core.frame.DataFrame'>\n",
      "RangeIndex: 816 entries, 0 to 815\n",
      "Data columns (total 12 columns):\n",
      " #   Column           Non-Null Count  Dtype  \n",
      "---  ------           --------------  -----  \n",
      " 0   dates            816 non-null    object \n",
      " 1   city             765 non-null    object \n",
      " 2   season           816 non-null    int64  \n",
      " 3   host_team        816 non-null    object \n",
      " 4   visiting_team    816 non-null    object \n",
      " 5   toss_winner      816 non-null    object \n",
      " 6   toss_decision    816 non-null    object \n",
      " 7   venue            816 non-null    object \n",
      " 8   result           816 non-null    int64  \n",
      " 9   winner           816 non-null    object \n",
      " 10  player_of_match  812 non-null    object \n",
      " 11  match_id         816 non-null    float64\n",
      "dtypes: float64(1), int64(2), object(9)\n",
      "memory usage: 76.6+ KB\n"
     ]
    }
   ],
   "source": [
    "match_data.info()"
   ]
  },
  {
   "cell_type": "code",
   "execution_count": 38,
   "metadata": {},
   "outputs": [],
   "source": [
    "mid=match_data[match_data['match_id']=='250.']"
   ]
  },
  {
   "cell_type": "code",
   "execution_count": 39,
   "metadata": {},
   "outputs": [
    {
     "data": {
      "text/html": [
       "<div>\n",
       "<style scoped>\n",
       "    .dataframe tbody tr th:only-of-type {\n",
       "        vertical-align: middle;\n",
       "    }\n",
       "\n",
       "    .dataframe tbody tr th {\n",
       "        vertical-align: top;\n",
       "    }\n",
       "\n",
       "    .dataframe thead th {\n",
       "        text-align: right;\n",
       "    }\n",
       "</style>\n",
       "<table border=\"1\" class=\"dataframe\">\n",
       "  <thead>\n",
       "    <tr style=\"text-align: right;\">\n",
       "      <th></th>\n",
       "      <th>dates</th>\n",
       "      <th>city</th>\n",
       "      <th>season</th>\n",
       "      <th>host_team</th>\n",
       "      <th>visiting_team</th>\n",
       "      <th>toss_winner</th>\n",
       "      <th>toss_decision</th>\n",
       "      <th>venue</th>\n",
       "      <th>result</th>\n",
       "      <th>winner</th>\n",
       "      <th>player_of_match</th>\n",
       "      <th>match_id</th>\n",
       "    </tr>\n",
       "  </thead>\n",
       "  <tbody>\n",
       "  </tbody>\n",
       "</table>\n",
       "</div>"
      ],
      "text/plain": [
       "Empty DataFrame\n",
       "Columns: [dates, city, season, host_team, visiting_team, toss_winner, toss_decision, venue, result, winner, player_of_match, match_id]\n",
       "Index: []"
      ]
     },
     "execution_count": 39,
     "metadata": {},
     "output_type": "execute_result"
    }
   ],
   "source": [
    "mid"
   ]
  },
  {
   "cell_type": "code",
   "execution_count": 37,
   "metadata": {},
   "outputs": [
    {
     "data": {
      "text/plain": [
       "array([  1.,   2.,   3.,   4.,   5.,   6.,   7.,   8.,   9.,  10.,  11.,\n",
       "        12.,  13.,  14.,  15.,  16.,  17.,  18.,  19.,  20.,  21.,  22.,\n",
       "        23.,  24.,  25.,  26.,  27.,  28.,  29.,  30.,  31.,  32.,  33.,\n",
       "        34.,  35.,  36.,  37.,  38.,  39.,  40.,  41.,  42.,  43.,  44.,\n",
       "        45.,  46.,  47.,  48.,  49.,  50.,  51.,  52.,  53.,  54.,  55.,\n",
       "        56.,  57.,  58.,  59.,  60.,  61.,  62.,  63.,  64.,  65.,  66.,\n",
       "        67.,  68.,  69.,  70.,  71.,  72.,  73.,  74.,  75.,  76.,  77.,\n",
       "        78.,  79.,  80.,  81.,  82.,  83.,  84.,  85.,  86.,  87.,  88.,\n",
       "        89.,  90.,  91.,  92.,  93.,  94.,  95.,  96.,  97.,  98.,  99.,\n",
       "       100., 101., 102., 103., 104., 105., 106., 107., 108., 109., 110.,\n",
       "       111., 112., 113., 114., 115., 116., 117., 118., 119., 120., 121.,\n",
       "       122., 123., 124., 125., 126., 127., 128., 129., 130., 131., 132.,\n",
       "       133., 134., 135., 136., 137., 138., 139., 140., 141., 142., 143.,\n",
       "       144., 145., 146., 147., 148., 149., 150., 151., 152., 153., 154.,\n",
       "       155., 156., 157., 158., 159., 160., 161., 162., 163., 164., 165.,\n",
       "       166., 167., 168., 169., 170., 171., 172., 173., 174., 175., 176.,\n",
       "       177., 178., 179., 180., 181., 182., 183., 184., 185., 186., 187.,\n",
       "       188., 189., 190., 191., 192., 193., 194., 195., 196., 197., 198.,\n",
       "       199., 200., 201., 202., 203., 204., 205., 206., 207., 208., 209.,\n",
       "       210., 211., 212., 213., 214., 215., 216., 217., 218., 219., 220.,\n",
       "       221., 222., 223., 224., 225., 226., 227., 228., 229., 230., 231.,\n",
       "       232., 233., 234., 235., 236., 237., 238., 239., 240., 241., 242.,\n",
       "       243., 244., 245., 246., 247., 248., 249., 250., 251., 252., 253.,\n",
       "       254., 255., 256., 257., 258., 259., 260., 261., 262., 263., 264.,\n",
       "       265., 266., 267., 268., 269., 270., 271., 272., 273., 274., 275.,\n",
       "       276., 277., 278., 279., 280., 281., 282., 283., 284., 285., 286.,\n",
       "       287., 288., 289., 290., 291., 292., 293., 294., 295., 296., 297.,\n",
       "       298., 299., 300., 301., 302., 303., 304., 305., 306., 307., 308.,\n",
       "       309., 310., 311., 312., 313., 314., 315., 316., 317., 318., 319.,\n",
       "       320., 321., 322., 323., 324., 325., 326., 327., 328., 329., 330.,\n",
       "       331., 332., 333., 334., 335., 336., 337., 338., 339., 340., 341.,\n",
       "       342., 343., 344., 345., 346., 347., 348., 349., 350., 351., 352.,\n",
       "       353., 354., 355., 356., 357., 358., 359., 360., 361., 362., 363.,\n",
       "       364., 365., 366., 367., 368., 369., 370., 371., 372., 373., 374.,\n",
       "       375., 376., 377., 378., 379., 380., 381., 382., 383., 384., 385.,\n",
       "       386., 387., 388., 389., 390., 391., 392., 393., 394., 395., 396.,\n",
       "       397., 398., 399., 400., 401., 402., 403., 404., 405., 406., 407.,\n",
       "       408., 409., 410., 411., 412., 413., 414., 415., 416., 417., 418.,\n",
       "       419., 420., 421., 422., 423., 424., 425., 426., 427., 428., 429.,\n",
       "       430., 431., 432., 433., 434., 435., 436., 437., 438., 439., 440.,\n",
       "       441., 442., 443., 444., 445., 446., 447., 448., 449., 450., 451.,\n",
       "       452., 453., 454., 455., 456., 457., 458., 459., 460., 461., 462.,\n",
       "       463., 464., 465., 466., 467., 468., 469., 470., 471., 472., 473.,\n",
       "       474., 475., 476., 477., 478., 479., 480., 481., 482., 483., 484.,\n",
       "       485., 486., 487., 488., 489., 490., 491., 492., 493., 494., 495.,\n",
       "       496., 497., 498., 499., 500., 501., 502., 503., 504., 505., 506.,\n",
       "       507., 508., 509., 510., 511., 512., 513., 514., 515., 516., 517.,\n",
       "       518., 519., 520., 521., 522., 523., 524., 525., 526., 527., 528.,\n",
       "       529., 530., 531., 532., 533., 534., 535., 536., 537., 538., 539.,\n",
       "       540., 541., 542., 543., 544., 545., 546., 547., 548., 549., 550.,\n",
       "       551., 552., 553., 554., 555., 556., 557., 558., 559., 560., 561.,\n",
       "       562., 563., 564., 565., 566., 567., 568., 569., 570., 571., 572.,\n",
       "       573., 574., 575., 576., 577., 578., 579., 580., 581., 582., 583.,\n",
       "       584., 585., 586., 587., 588., 589., 590., 591., 592., 593., 594.,\n",
       "       595., 596., 597., 598., 599., 600., 601., 602., 603., 604., 605.,\n",
       "       606., 607., 608., 609., 610., 611., 612., 613., 614., 615., 616.,\n",
       "       617., 618., 619., 620., 621., 622., 623., 624., 625., 626., 627.,\n",
       "       628., 629., 630., 631., 632., 633., 634., 635., 636., 637., 638.,\n",
       "       639., 640., 641., 642., 643., 644., 645., 646., 647., 648., 649.,\n",
       "       650., 651., 652., 653., 654., 655., 656., 657., 658., 659., 660.,\n",
       "       661., 662., 663., 664., 665., 666., 667., 668., 669., 670., 671.,\n",
       "       672., 673., 674., 675., 676., 677., 678., 679., 680., 681., 682.,\n",
       "       683., 684., 685., 686., 687., 688., 689., 690., 691., 692., 693.,\n",
       "       694., 695., 696., 697., 698., 699., 700., 701., 702., 703., 704.,\n",
       "       705., 706., 707., 708., 709., 710., 711., 712., 713., 714., 715.,\n",
       "       716., 717., 718., 719., 720., 721., 722., 723., 724., 725., 726.,\n",
       "       727., 728., 729., 730., 731., 732., 733., 734., 735., 736., 737.,\n",
       "       738., 739., 740., 741., 742., 743., 744., 745., 746., 747., 748.,\n",
       "       749., 750., 751., 752., 753., 754., 755., 756., 757., 758., 759.,\n",
       "       760., 761., 762., 763., 764., 765., 766., 767., 768., 769., 770.,\n",
       "       771., 772., 773., 774., 775., 776., 777., 778., 779., 780., 781.,\n",
       "       782., 783., 784., 785., 786., 787., 788., 789., 790., 791., 792.,\n",
       "       793., 794., 795., 796., 797., 798., 799., 800., 801., 802., 803.,\n",
       "       804., 805., 806., 807., 808., 809., 810., 811., 812., 813., 814.,\n",
       "       815., 816.])"
      ]
     },
     "execution_count": 37,
     "metadata": {},
     "output_type": "execute_result"
    }
   ],
   "source": [
    "match_data.match_id.unique()"
   ]
  },
  {
   "cell_type": "code",
   "execution_count": 27,
   "metadata": {},
   "outputs": [],
   "source": [
    "match1=p1_data['total_runs']"
   ]
  },
  {
   "cell_type": "code",
   "execution_count": 29,
   "metadata": {},
   "outputs": [
    {
     "data": {
      "text/plain": [
       "6"
      ]
     },
     "execution_count": 29,
     "metadata": {},
     "output_type": "execute_result"
    }
   ],
   "source": [
    "match1.max()"
   ]
  },
  {
   "cell_type": "code",
   "execution_count": 13,
   "metadata": {},
   "outputs": [
    {
     "data": {
      "text/html": [
       "<div>\n",
       "<style scoped>\n",
       "    .dataframe tbody tr th:only-of-type {\n",
       "        vertical-align: middle;\n",
       "    }\n",
       "\n",
       "    .dataframe tbody tr th {\n",
       "        vertical-align: top;\n",
       "    }\n",
       "\n",
       "    .dataframe thead th {\n",
       "        text-align: right;\n",
       "    }\n",
       "</style>\n",
       "<table border=\"1\" class=\"dataframe\">\n",
       "  <thead>\n",
       "    <tr style=\"text-align: right;\">\n",
       "      <th></th>\n",
       "      <th>dates</th>\n",
       "      <th>city</th>\n",
       "      <th>season</th>\n",
       "      <th>host_team</th>\n",
       "      <th>visiting_team</th>\n",
       "      <th>toss_winner</th>\n",
       "      <th>toss_decision</th>\n",
       "      <th>venue</th>\n",
       "      <th>result</th>\n",
       "      <th>winner</th>\n",
       "      <th>player_of_match</th>\n",
       "      <th>match_id</th>\n",
       "    </tr>\n",
       "  </thead>\n",
       "  <tbody>\n",
       "    <tr>\n",
       "      <th>0</th>\n",
       "      <td>2008-04-18</td>\n",
       "      <td>Bangalore</td>\n",
       "      <td>2008</td>\n",
       "      <td>Royal Challengers Bangalore</td>\n",
       "      <td>Kolkata Knight Riders</td>\n",
       "      <td>Royal Challengers Bangalore</td>\n",
       "      <td>field</td>\n",
       "      <td>M Chinnaswamy Stadium</td>\n",
       "      <td>1</td>\n",
       "      <td>Kolkata Knight Riders</td>\n",
       "      <td>BB McCullum</td>\n",
       "      <td>1.0</td>\n",
       "    </tr>\n",
       "    <tr>\n",
       "      <th>11</th>\n",
       "      <td>2008-04-26</td>\n",
       "      <td>Bangalore</td>\n",
       "      <td>2008</td>\n",
       "      <td>Royal Challengers Bangalore</td>\n",
       "      <td>Rajasthan Royals</td>\n",
       "      <td>Rajasthan Royals</td>\n",
       "      <td>field</td>\n",
       "      <td>M Chinnaswamy Stadium</td>\n",
       "      <td>1</td>\n",
       "      <td>Rajasthan Royals</td>\n",
       "      <td>SR Watson</td>\n",
       "      <td>12.0</td>\n",
       "    </tr>\n",
       "    <tr>\n",
       "      <th>14</th>\n",
       "      <td>2008-04-28</td>\n",
       "      <td>Bangalore</td>\n",
       "      <td>2008</td>\n",
       "      <td>Royal Challengers Bangalore</td>\n",
       "      <td>Chennai Super Kings</td>\n",
       "      <td>Chennai Super Kings</td>\n",
       "      <td>bat</td>\n",
       "      <td>M Chinnaswamy Stadium</td>\n",
       "      <td>1</td>\n",
       "      <td>Chennai Super Kings</td>\n",
       "      <td>MS Dhoni</td>\n",
       "      <td>15.0</td>\n",
       "    </tr>\n",
       "    <tr>\n",
       "      <th>21</th>\n",
       "      <td>2008-05-03</td>\n",
       "      <td>Bangalore</td>\n",
       "      <td>2008</td>\n",
       "      <td>Royal Challengers Bangalore</td>\n",
       "      <td>Deccan Chargers</td>\n",
       "      <td>Deccan Chargers</td>\n",
       "      <td>field</td>\n",
       "      <td>M Chinnaswamy Stadium</td>\n",
       "      <td>1</td>\n",
       "      <td>Royal Challengers Bangalore</td>\n",
       "      <td>P Kumar</td>\n",
       "      <td>22.0</td>\n",
       "    </tr>\n",
       "    <tr>\n",
       "      <th>24</th>\n",
       "      <td>2008-05-05</td>\n",
       "      <td>Bangalore</td>\n",
       "      <td>2008</td>\n",
       "      <td>Royal Challengers Bangalore</td>\n",
       "      <td>Kings XI Punjab</td>\n",
       "      <td>Kings XI Punjab</td>\n",
       "      <td>field</td>\n",
       "      <td>M Chinnaswamy Stadium</td>\n",
       "      <td>1</td>\n",
       "      <td>Kings XI Punjab</td>\n",
       "      <td>S Sreesanth</td>\n",
       "      <td>25.0</td>\n",
       "    </tr>\n",
       "  </tbody>\n",
       "</table>\n",
       "</div>"
      ],
      "text/plain": [
       "         dates       city  season                    host_team  \\\n",
       "0   2008-04-18  Bangalore    2008  Royal Challengers Bangalore   \n",
       "11  2008-04-26  Bangalore    2008  Royal Challengers Bangalore   \n",
       "14  2008-04-28  Bangalore    2008  Royal Challengers Bangalore   \n",
       "21  2008-05-03  Bangalore    2008  Royal Challengers Bangalore   \n",
       "24  2008-05-05  Bangalore    2008  Royal Challengers Bangalore   \n",
       "\n",
       "            visiting_team                  toss_winner toss_decision  \\\n",
       "0   Kolkata Knight Riders  Royal Challengers Bangalore         field   \n",
       "11       Rajasthan Royals             Rajasthan Royals         field   \n",
       "14    Chennai Super Kings          Chennai Super Kings           bat   \n",
       "21        Deccan Chargers              Deccan Chargers         field   \n",
       "24        Kings XI Punjab              Kings XI Punjab         field   \n",
       "\n",
       "                    venue  result                       winner  \\\n",
       "0   M Chinnaswamy Stadium       1        Kolkata Knight Riders   \n",
       "11  M Chinnaswamy Stadium       1             Rajasthan Royals   \n",
       "14  M Chinnaswamy Stadium       1          Chennai Super Kings   \n",
       "21  M Chinnaswamy Stadium       1  Royal Challengers Bangalore   \n",
       "24  M Chinnaswamy Stadium       1              Kings XI Punjab   \n",
       "\n",
       "   player_of_match  match_id  \n",
       "0      BB McCullum       1.0  \n",
       "11       SR Watson      12.0  \n",
       "14        MS Dhoni      15.0  \n",
       "21         P Kumar      22.0  \n",
       "24     S Sreesanth      25.0  "
      ]
     },
     "execution_count": 13,
     "metadata": {},
     "output_type": "execute_result"
    }
   ],
   "source": [
    "bg_vn_matches.head()"
   ]
  },
  {
   "cell_type": "code",
   "execution_count": null,
   "metadata": {},
   "outputs": [],
   "source": []
  }
 ],
 "metadata": {
  "kernelspec": {
   "display_name": "Python 3",
   "language": "python",
   "name": "python3"
  },
  "language_info": {
   "codemirror_mode": {
    "name": "ipython",
    "version": 3
   },
   "file_extension": ".py",
   "mimetype": "text/x-python",
   "name": "python",
   "nbconvert_exporter": "python",
   "pygments_lexer": "ipython3",
   "version": "3.8.5"
  }
 },
 "nbformat": 4,
 "nbformat_minor": 4
}
