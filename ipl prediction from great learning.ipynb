{
 "cells": [
  {
   "cell_type": "markdown",
   "metadata": {},
   "source": [
    "# youtube url\n",
    "https://www.youtube.com/watch?v=yqC5yoUaBUk&t=606s\n",
    "# Dataset from kaggle\n",
    "https://www.kaggle.com/laxmena/ipl-dataset-2020-season-included"
   ]
  },
  {
   "cell_type": "code",
   "execution_count": 2,
   "metadata": {},
   "outputs": [],
   "source": [
    "# loading required libraries\n",
    "import pandas as pd\n",
    "from matplotlib import pyplot as plt\n",
    "import seaborn as sns\n",
    "import os\n"
   ]
  },
  {
   "cell_type": "code",
   "execution_count": 3,
   "metadata": {},
   "outputs": [
    {
     "name": "stdout",
     "output_type": "stream",
     "text": [
      "Current working directory :  F:\\DataSciencePractise\\MachineLearningLab\n"
     ]
    }
   ],
   "source": [
    "print(\"Current working directory : \",os.getcwd())"
   ]
  },
  {
   "cell_type": "code",
   "execution_count": 4,
   "metadata": {},
   "outputs": [],
   "source": [
    "# loading matches dataset\n",
    "matches_df=pd.read_csv('ipldataset/match_data.csv')"
   ]
  },
  {
   "cell_type": "code",
   "execution_count": 5,
   "metadata": {},
   "outputs": [
    {
     "data": {
      "text/html": [
       "<div>\n",
       "<style scoped>\n",
       "    .dataframe tbody tr th:only-of-type {\n",
       "        vertical-align: middle;\n",
       "    }\n",
       "\n",
       "    .dataframe tbody tr th {\n",
       "        vertical-align: top;\n",
       "    }\n",
       "\n",
       "    .dataframe thead th {\n",
       "        text-align: right;\n",
       "    }\n",
       "</style>\n",
       "<table border=\"1\" class=\"dataframe\">\n",
       "  <thead>\n",
       "    <tr style=\"text-align: right;\">\n",
       "      <th></th>\n",
       "      <th>dates</th>\n",
       "      <th>city</th>\n",
       "      <th>season</th>\n",
       "      <th>host_team</th>\n",
       "      <th>visiting_team</th>\n",
       "      <th>toss_winner</th>\n",
       "      <th>toss_decision</th>\n",
       "      <th>venue</th>\n",
       "      <th>result</th>\n",
       "      <th>winner</th>\n",
       "      <th>player_of_match</th>\n",
       "      <th>match_id</th>\n",
       "    </tr>\n",
       "  </thead>\n",
       "  <tbody>\n",
       "    <tr>\n",
       "      <th>0</th>\n",
       "      <td>2008-04-18</td>\n",
       "      <td>Bangalore</td>\n",
       "      <td>2008</td>\n",
       "      <td>Royal Challengers Bangalore</td>\n",
       "      <td>Kolkata Knight Riders</td>\n",
       "      <td>Royal Challengers Bangalore</td>\n",
       "      <td>field</td>\n",
       "      <td>M Chinnaswamy Stadium</td>\n",
       "      <td>1</td>\n",
       "      <td>Kolkata Knight Riders</td>\n",
       "      <td>BB McCullum</td>\n",
       "      <td>1.0</td>\n",
       "    </tr>\n",
       "    <tr>\n",
       "      <th>1</th>\n",
       "      <td>2008-04-19</td>\n",
       "      <td>Chandigarh</td>\n",
       "      <td>2008</td>\n",
       "      <td>Kings XI Punjab</td>\n",
       "      <td>Chennai Super Kings</td>\n",
       "      <td>Chennai Super Kings</td>\n",
       "      <td>bat</td>\n",
       "      <td>Punjab Cricket Association Stadium, Mohali</td>\n",
       "      <td>1</td>\n",
       "      <td>Chennai Super Kings</td>\n",
       "      <td>MEK Hussey</td>\n",
       "      <td>2.0</td>\n",
       "    </tr>\n",
       "    <tr>\n",
       "      <th>2</th>\n",
       "      <td>2008-04-19 00:00:00</td>\n",
       "      <td>Delhi</td>\n",
       "      <td>2008</td>\n",
       "      <td>Delhi Daredevils</td>\n",
       "      <td>Rajasthan Royals</td>\n",
       "      <td>Rajasthan Royals</td>\n",
       "      <td>bat</td>\n",
       "      <td>Feroz Shah Kotla</td>\n",
       "      <td>1</td>\n",
       "      <td>Delhi Daredevils</td>\n",
       "      <td>MF Maharoof</td>\n",
       "      <td>3.0</td>\n",
       "    </tr>\n",
       "    <tr>\n",
       "      <th>3</th>\n",
       "      <td>2008-04-20</td>\n",
       "      <td>Kolkata</td>\n",
       "      <td>2008</td>\n",
       "      <td>Kolkata Knight Riders</td>\n",
       "      <td>Deccan Chargers</td>\n",
       "      <td>Deccan Chargers</td>\n",
       "      <td>bat</td>\n",
       "      <td>Eden Gardens</td>\n",
       "      <td>1</td>\n",
       "      <td>Kolkata Knight Riders</td>\n",
       "      <td>DJ Hussey</td>\n",
       "      <td>4.0</td>\n",
       "    </tr>\n",
       "    <tr>\n",
       "      <th>4</th>\n",
       "      <td>2008-04-20</td>\n",
       "      <td>Mumbai</td>\n",
       "      <td>2008</td>\n",
       "      <td>Mumbai Indians</td>\n",
       "      <td>Royal Challengers Bangalore</td>\n",
       "      <td>Mumbai Indians</td>\n",
       "      <td>bat</td>\n",
       "      <td>Wankhede Stadium</td>\n",
       "      <td>1</td>\n",
       "      <td>Royal Challengers Bangalore</td>\n",
       "      <td>MV Boucher</td>\n",
       "      <td>5.0</td>\n",
       "    </tr>\n",
       "  </tbody>\n",
       "</table>\n",
       "</div>"
      ],
      "text/plain": [
       "                 dates        city  season                    host_team  \\\n",
       "0           2008-04-18   Bangalore    2008  Royal Challengers Bangalore   \n",
       "1           2008-04-19  Chandigarh    2008              Kings XI Punjab   \n",
       "2  2008-04-19 00:00:00       Delhi    2008             Delhi Daredevils   \n",
       "3           2008-04-20     Kolkata    2008        Kolkata Knight Riders   \n",
       "4           2008-04-20      Mumbai    2008               Mumbai Indians   \n",
       "\n",
       "                 visiting_team                  toss_winner toss_decision  \\\n",
       "0        Kolkata Knight Riders  Royal Challengers Bangalore         field   \n",
       "1          Chennai Super Kings          Chennai Super Kings           bat   \n",
       "2             Rajasthan Royals             Rajasthan Royals           bat   \n",
       "3              Deccan Chargers              Deccan Chargers           bat   \n",
       "4  Royal Challengers Bangalore               Mumbai Indians           bat   \n",
       "\n",
       "                                        venue  result  \\\n",
       "0                       M Chinnaswamy Stadium       1   \n",
       "1  Punjab Cricket Association Stadium, Mohali       1   \n",
       "2                            Feroz Shah Kotla       1   \n",
       "3                                Eden Gardens       1   \n",
       "4                            Wankhede Stadium       1   \n",
       "\n",
       "                        winner player_of_match  match_id  \n",
       "0        Kolkata Knight Riders     BB McCullum       1.0  \n",
       "1          Chennai Super Kings      MEK Hussey       2.0  \n",
       "2             Delhi Daredevils     MF Maharoof       3.0  \n",
       "3        Kolkata Knight Riders       DJ Hussey       4.0  \n",
       "4  Royal Challengers Bangalore      MV Boucher       5.0  "
      ]
     },
     "execution_count": 5,
     "metadata": {},
     "output_type": "execute_result"
    }
   ],
   "source": [
    "matches_df.head()"
   ]
  },
  {
   "cell_type": "code",
   "execution_count": null,
   "metadata": {},
   "outputs": [],
   "source": []
  }
 ],
 "metadata": {
  "kernelspec": {
   "display_name": "Python 3",
   "language": "python",
   "name": "python3"
  },
  "language_info": {
   "codemirror_mode": {
    "name": "ipython",
    "version": 3
   },
   "file_extension": ".py",
   "mimetype": "text/x-python",
   "name": "python",
   "nbconvert_exporter": "python",
   "pygments_lexer": "ipython3",
   "version": "3.8.5"
  }
 },
 "nbformat": 4,
 "nbformat_minor": 4
}
