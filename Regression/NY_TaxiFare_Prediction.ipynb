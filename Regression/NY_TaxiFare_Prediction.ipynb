{
 "cells": [
  {
   "cell_type": "code",
   "execution_count": 1,
   "metadata": {},
   "outputs": [],
   "source": [
    "from pyspark.sql import SparkSession\n",
    "spark=SparkSession.builder.getOrCreate()"
   ]
  },
  {
   "cell_type": "code",
   "execution_count": 2,
   "metadata": {},
   "outputs": [],
   "source": [
    "# 1. Loading the data into spark dataframe\n",
    "train_data=spark.read.csv('C:/Manidhar/DataScience/DataSets/New York City Taxi Fare Prediction/train.csv',header=True)"
   ]
  },
  {
   "cell_type": "code",
   "execution_count": 3,
   "metadata": {},
   "outputs": [
    {
     "name": "stdout",
     "output_type": "stream",
     "text": [
      "+-------+--------------------+------------------+--------------------+------------------+-----------------+------------------+------------------+------------------+\n",
      "|summary|                 key|       fare_amount|     pickup_datetime|  pickup_longitude|  pickup_latitude| dropoff_longitude|  dropoff_latitude|   passenger_count|\n",
      "+-------+--------------------+------------------+--------------------+------------------+-----------------+------------------+------------------+------------------+\n",
      "|  count|            55423856|          55423856|            55423856|          55423856|         55423856|          55423480|          55423480|          55423856|\n",
      "|   mean|                null|11.345045601663852|                null|-72.50968444358729| 39.9197917868882|-72.51120972971809|39.920681444828844|1.6853799201556816|\n",
      "| stddev|                null|  20.7108321982325|                null| 12.84888338140265|9.642353041994934|12.782196517830771| 9.633345796415124|1.3276643570959683|\n",
      "|    min|2009-01-01 00:00:...|             -0.01|2009-01-01 00:00:...|           -0.0001|        -0.000105|           -0.0001|         -0.000103|                 0|\n",
      "|    max|2015-06-30 23:59:...|            999.99|2015-06-30 23:59:...|             9e-05|            9e-05|             9e-05|             9e-05|                 9|\n",
      "+-------+--------------------+------------------+--------------------+------------------+-----------------+------------------+------------------+------------------+\n",
      "\n"
     ]
    }
   ],
   "source": [
    "train_data.describe().show()"
   ]
  },
  {
   "cell_type": "code",
   "execution_count": null,
   "metadata": {},
   "outputs": [],
   "source": []
  }
 ],
 "metadata": {
  "kernelspec": {
   "display_name": "Python 3",
   "language": "python",
   "name": "python3"
  },
  "language_info": {
   "codemirror_mode": {
    "name": "ipython",
    "version": 3
   },
   "file_extension": ".py",
   "mimetype": "text/x-python",
   "name": "python",
   "nbconvert_exporter": "python",
   "pygments_lexer": "ipython3",
   "version": "3.6.5"
  }
 },
 "nbformat": 4,
 "nbformat_minor": 2
}
