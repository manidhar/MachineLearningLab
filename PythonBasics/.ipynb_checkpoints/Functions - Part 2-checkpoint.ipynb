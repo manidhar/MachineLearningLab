{
 "cells": [
  {
   "cell_type": "markdown",
   "id": "7fc4f497",
   "metadata": {},
   "source": [
    "# Function Overloading"
   ]
  },
  {
   "cell_type": "markdown",
   "id": "aab857d9",
   "metadata": {},
   "source": [
    "'''creating multiple functions with same function name is called function overloading\n",
    "Ex : \n",
    "    def test1(n):\n",
    "        return n*2\n",
    "same method name with multiple arugments\n",
    "    def test1(n,s):\n",
    "        return n*s\n",
    " '''"
   ]
  },
  {
   "cell_type": "code",
   "execution_count": 13,
   "id": "d80993c8",
   "metadata": {},
   "outputs": [],
   "source": [
    "def calculate(var1:int,var2,int):\n",
    "    if operator=='+':\n",
    "        return var1+var2\n",
    "    elif operator == '-':\n",
    "        return var1-var2\n",
    "    else:\n",
    "        return var1*var2"
   ]
  },
  {
   "cell_type": "code",
   "execution_count": 14,
   "id": "79f8b65e",
   "metadata": {},
   "outputs": [],
   "source": [
    "def calculate(var1:str,var2:str,operator:str):\n",
    "    if operator=='+':\n",
    "        return var1+var2\n",
    "    elif operator == '-':\n",
    "        return var1-var2\n",
    "    else:\n",
    "        return var1*var2"
   ]
  },
  {
   "cell_type": "code",
   "execution_count": 16,
   "id": "79794467",
   "metadata": {},
   "outputs": [
    {
     "data": {
      "text/plain": [
       "'AB'"
      ]
     },
     "execution_count": 16,
     "metadata": {},
     "output_type": "execute_result"
    }
   ],
   "source": [
    "calculate('A','B','+')"
   ]
  },
  {
   "cell_type": "code",
   "execution_count": 18,
   "id": "913abecb",
   "metadata": {},
   "outputs": [
    {
     "ename": "TypeError",
     "evalue": "calculate() missing 1 required positional argument: 'operator'",
     "output_type": "error",
     "traceback": [
      "\u001b[1;31m---------------------------------------------------------------------------\u001b[0m",
      "\u001b[1;31mTypeError\u001b[0m                                 Traceback (most recent call last)",
      "\u001b[1;32m<ipython-input-18-2bfdb8af6f47>\u001b[0m in \u001b[0;36m<module>\u001b[1;34m\u001b[0m\n\u001b[0;32m      1\u001b[0m \u001b[1;31m# IN Python we cannot overload function in this way. Here calculate function with two parameters is\u001b[0m\u001b[1;33m\u001b[0m\u001b[1;33m\u001b[0m\u001b[1;33m\u001b[0m\u001b[0m\n\u001b[0;32m      2\u001b[0m \u001b[1;31m# replaced with the new one\u001b[0m\u001b[1;33m\u001b[0m\u001b[1;33m\u001b[0m\u001b[1;33m\u001b[0m\u001b[0m\n\u001b[1;32m----> 3\u001b[1;33m \u001b[0mcalculate\u001b[0m\u001b[1;33m(\u001b[0m\u001b[1;36m2\u001b[0m\u001b[1;33m,\u001b[0m\u001b[1;36m3\u001b[0m\u001b[1;33m)\u001b[0m\u001b[1;33m\u001b[0m\u001b[1;33m\u001b[0m\u001b[0m\n\u001b[0m",
      "\u001b[1;31mTypeError\u001b[0m: calculate() missing 1 required positional argument: 'operator'"
     ]
    }
   ],
   "source": [
    "# IN Python we cannot overload function in this way. Here calculate function with two parameters is \n",
    "# replaced with the new one\n",
    "calculate(2,3)"
   ]
  },
  {
   "cell_type": "code",
   "execution_count": 20,
   "id": "cf1bbe0e",
   "metadata": {},
   "outputs": [],
   "source": [
    "def calculate(var1:str,var2:str,operator='+'):\n",
    "    if operator=='+':\n",
    "        return var1+var2\n",
    "    elif operator == '-':\n",
    "        return var1-var2\n",
    "    else:\n",
    "        return var1*var2"
   ]
  },
  {
   "cell_type": "code",
   "execution_count": 22,
   "id": "3326324b",
   "metadata": {},
   "outputs": [
    {
     "name": "stdout",
     "output_type": "stream",
     "text": [
      "5\n",
      "-1\n",
      "6\n"
     ]
    }
   ],
   "source": [
    "print(calculate(2,3))\n",
    "print(calculate(2,3,'-'))\n",
    "print(calculate(2,3,operator='%'))"
   ]
  },
  {
   "cell_type": "code",
   "execution_count": null,
   "id": "28934d16",
   "metadata": {},
   "outputs": [],
   "source": []
  }
 ],
 "metadata": {
  "kernelspec": {
   "display_name": "Python 3",
   "language": "python",
   "name": "python3"
  },
  "language_info": {
   "codemirror_mode": {
    "name": "ipython",
    "version": 3
   },
   "file_extension": ".py",
   "mimetype": "text/x-python",
   "name": "python",
   "nbconvert_exporter": "python",
   "pygments_lexer": "ipython3",
   "version": "3.8.5"
  }
 },
 "nbformat": 4,
 "nbformat_minor": 5
}
