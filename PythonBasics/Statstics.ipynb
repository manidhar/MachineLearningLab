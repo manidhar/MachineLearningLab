{
 "cells": [
  {
   "cell_type": "code",
   "execution_count": 5,
   "metadata": {},
   "outputs": [],
   "source": [
    "import numpy as np\n",
    "import matplotlib.pyplot as plt"
   ]
  },
  {
   "cell_type": "code",
   "execution_count": 3,
   "metadata": {},
   "outputs": [
    {
     "data": {
      "text/plain": [
       "27107.413678024626"
      ]
     },
     "execution_count": 3,
     "metadata": {},
     "output_type": "execute_result"
    }
   ],
   "source": [
    "incomes=np.random.normal(27000,15000,10000)\n",
    "np.mean(incomes)"
   ]
  },
  {
   "cell_type": "code",
   "execution_count": 6,
   "metadata": {},
   "outputs": [
    {
     "data": {
      "image/png": "[encoded data removed]",
      "text/plain": [
       "<Figure size 432x288 with 1 Axes>"
      ]
     },
     "metadata": {
      "needs_background": "light"
     },
     "output_type": "display_data"
    }
   ],
   "source": [
    "plt.hist(incomes,50)\n",
    "plt.show()"
   ]
  },
  {
   "cell_type": "code",
   "execution_count": 7,
   "metadata": {},
   "outputs": [
    {
     "data": {
      "text/plain": [
       "27215.360263567756"
      ]
     },
     "execution_count": 7,
     "metadata": {},
     "output_type": "execute_result"
    }
   ],
   "source": [
    "np.median(incomes)"
   ]
  },
  {
   "cell_type": "code",
   "execution_count": 18,
   "metadata": {},
   "outputs": [],
   "source": [
    "incomes=np.append(incomes,[100000000])"
   ]
  },
  {
   "cell_type": "code",
   "execution_count": 19,
   "metadata": {},
   "outputs": [
    {
     "data": {
      "text/plain": [
       "27217.803357949695"
      ]
     },
     "execution_count": 19,
     "metadata": {},
     "output_type": "execute_result"
    }
   ],
   "source": [
    "np.median(incomes)"
   ]
  },
  {
   "cell_type": "code",
   "execution_count": 20,
   "metadata": {},
   "outputs": [
    {
     "data": {
      "text/plain": [
       "1146648.754176354"
      ]
     },
     "execution_count": 20,
     "metadata": {},
     "output_type": "execute_result"
    }
   ],
   "source": [
    "np.mean(incomes)"
   ]
  },
  {
   "cell_type": "code",
   "execution_count": 21,
   "metadata": {},
   "outputs": [],
   "source": [
    "ages=np.random.randint(18,high=90,size=500)"
   ]
  },
  {
   "cell_type": "code",
   "execution_count": 22,
   "metadata": {},
   "outputs": [
    {
     "data": {
      "text/plain": [
       "array([47, 58, 29, 50, 28, 66, 20, 87, 46, 65, 69, 25, 50, 57, 62, 55, 41,\n",
       "       59, 20, 49, 49, 47, 85, 53, 27, 75, 78, 63, 56, 70, 57, 42, 41, 55,\n",
       "       58, 70, 67, 69, 62, 74, 48, 57, 55, 58, 86, 53, 81, 27, 55, 43, 80,\n",
       "       63, 57, 88, 72, 18, 32, 71, 47, 57, 66, 83, 38, 87, 68, 54, 47, 66,\n",
       "       65, 32, 52, 54, 46, 88, 44, 64, 74, 53, 70, 57, 87, 22, 79, 26, 80,\n",
       "       52, 75, 70, 23, 23, 65, 88, 35, 24, 65, 48, 36, 41, 38, 41, 75, 89,\n",
       "       34, 73, 76, 53, 71, 39, 88, 66, 77, 75, 36, 52, 68, 43, 58, 46, 35,\n",
       "       43, 52, 26, 67, 60, 75, 35, 50, 44, 71, 32, 72, 70, 25, 32, 65, 60,\n",
       "       88, 22, 66, 67, 38, 89, 43, 55, 41, 34, 81, 44, 35, 80, 20, 85, 53,\n",
       "       64, 81, 46, 60, 24, 78, 62, 19, 77, 88, 72, 18, 55, 72, 62, 57, 63,\n",
       "       67, 65, 54, 84, 78, 33, 85, 77, 67, 69, 65, 77, 86, 57, 86, 62, 18,\n",
       "       44, 18, 73, 52, 57, 50, 78, 62, 34, 26, 45, 53, 39, 20, 23, 61, 88,\n",
       "       20, 58, 49, 32, 46, 29, 86, 53, 58, 56, 82, 72, 38, 80, 86, 60, 83,\n",
       "       61, 60, 47, 37, 23, 62, 66, 66, 56, 85, 33, 35, 83, 49, 39, 32, 20,\n",
       "       65, 80, 27, 24, 37, 55, 44, 84, 79, 39, 61, 82, 23, 85, 81, 85, 19,\n",
       "       55, 66, 24, 88, 57, 63, 80, 34, 83, 57, 41, 25, 31, 22, 85, 63, 50,\n",
       "       56, 68, 62, 22, 81, 72, 54, 54, 72, 82, 76, 45, 62, 71, 25, 19, 53,\n",
       "       22, 66, 40, 18, 33, 85, 47, 76, 36, 56, 36, 20, 57, 88, 31, 30, 71,\n",
       "       53, 81, 32, 67, 49, 22, 45, 21, 58, 35, 33, 38, 59, 53, 57, 55, 74,\n",
       "       80, 83, 21, 22, 55, 54, 81, 35, 21, 70, 63, 44, 46, 49, 75, 77, 50,\n",
       "       85, 21, 85, 50, 81, 70, 71, 60, 21, 41, 68, 44, 68, 86, 56, 31, 56,\n",
       "       59, 54, 20, 78, 67, 24, 81, 51, 41, 58, 39, 70, 26, 36, 89, 36, 36,\n",
       "       75, 75, 84, 44, 29, 20, 24, 78, 73, 50, 39, 23, 56, 75, 37, 41, 59,\n",
       "       48, 52, 80, 80, 86, 30, 84, 40, 28, 47, 78, 49, 37, 70, 82, 43, 38,\n",
       "       77, 39, 35, 48, 40, 19, 44, 33, 72, 51, 88, 23, 64, 49, 73, 74, 62,\n",
       "       54, 24, 36, 49, 82, 86, 68, 62, 49, 51, 25, 63, 43, 80, 86, 84, 50,\n",
       "       82, 47, 50, 86, 73, 59, 53, 67, 65, 47, 63, 29, 71, 71, 76, 55, 23,\n",
       "       66, 49, 68, 51, 63, 66, 87, 60, 70, 68, 29, 87, 84, 82, 40, 34, 72,\n",
       "       46, 55, 40, 76, 50, 59, 57, 85, 68, 81, 62, 38, 25, 62, 78, 38, 59,\n",
       "       76, 19, 79, 72, 75, 76, 42])"
      ]
     },
     "execution_count": 22,
     "metadata": {},
     "output_type": "execute_result"
    }
   ],
   "source": [
    "ages"
   ]
  },
  {
   "cell_type": "code",
   "execution_count": 24,
   "metadata": {},
   "outputs": [
    {
     "data": {
      "text/plain": [
       "ModeResult(mode=array([57]), count=array([14]))"
      ]
     },
     "execution_count": 24,
     "metadata": {},
     "output_type": "execute_result"
    }
   ],
   "source": [
    "from scipy import stats\n",
    "stats.mode(ages)"
   ]
  },
  {
   "cell_type": "code",
   "execution_count": 26,
   "metadata": {},
   "outputs": [
    {
     "data": {
      "image/png": "[encoded data removed]",
      "text/plain": [
       "<Figure size 432x288 with 1 Axes>"
      ]
     },
     "metadata": {
      "needs_background": "light"
     },
     "output_type": "display_data"
    }
   ],
   "source": [
    "salesincomes=np.random.normal(100.0,20.0,10000)\n",
    "plt.hist(salesincomes,50)\n",
    "plt.show()"
   ]
  },
  {
   "cell_type": "code",
   "execution_count": 27,
   "metadata": {},
   "outputs": [
    {
     "data": {
      "text/plain": [
       "99.99820078413788"
      ]
     },
     "execution_count": 27,
     "metadata": {},
     "output_type": "execute_result"
    }
   ],
   "source": [
    "np.mean(salesincomes)"
   ]
  },
  {
   "cell_type": "code",
   "execution_count": 28,
   "metadata": {},
   "outputs": [
    {
     "data": {
      "text/plain": [
       "99.7934609348326"
      ]
     },
     "execution_count": 28,
     "metadata": {},
     "output_type": "execute_result"
    }
   ],
   "source": [
    "np.median(salesincomes)"
   ]
  },
  {
   "cell_type": "code",
   "execution_count": 29,
   "metadata": {},
   "outputs": [
    {
     "data": {
      "text/plain": [
       "20.085734703874817"
      ]
     },
     "execution_count": 29,
     "metadata": {},
     "output_type": "execute_result"
    }
   ],
   "source": [
    "salesincomes.std()"
   ]
  },
  {
   "cell_type": "code",
   "execution_count": 30,
   "metadata": {},
   "outputs": [
    {
     "data": {
      "text/plain": [
       "403.43673859444124"
      ]
     },
     "execution_count": 30,
     "metadata": {},
     "output_type": "execute_result"
    }
   ],
   "source": [
    "salesincomes.var()"
   ]
  },
  {
   "cell_type": "code",
   "execution_count": 31,
   "metadata": {},
   "outputs": [
    {
     "data": {
      "text/plain": [
       "numpy.ndarray"
      ]
     },
     "execution_count": 31,
     "metadata": {},
     "output_type": "execute_result"
    }
   ],
   "source": [
    "type(salesincomes)"
   ]
  },
  {
   "cell_type": "markdown",
   "metadata": {},
   "source": [
    "# Examples of Data Distributions"
   ]
  },
  {
   "cell_type": "markdown",
   "metadata": {},
   "source": [
    "Uniform Distribution"
   ]
  },
  {
   "cell_type": "code",
   "execution_count": 43,
   "metadata": {},
   "outputs": [
    {
     "data": {
      "image/png": "[encoded data removed]",
      "text/plain": [
       "<Figure size 432x288 with 1 Axes>"
      ]
     },
     "metadata": {
      "needs_background": "light"
     },
     "output_type": "display_data"
    }
   ],
   "source": [
    "values=np.random.uniform(-10.0,10.0,10000)\n",
    "plt.hist(values,50)\n",
    "plt.show()"
   ]
  },
  {
   "cell_type": "markdown",
   "metadata": {},
   "source": [
    "Normal/Gaussian"
   ]
  },
  {
   "cell_type": "code",
   "execution_count": 41,
   "metadata": {},
   "outputs": [
    {
     "data": {
      "text/plain": [
       "[<matplotlib.lines.Line2D at 0x1c2fbcf74f0>]"
      ]
     },
     "execution_count": 41,
     "metadata": {},
     "output_type": "execute_result"
    },
    {
     "data": {
      "image/png": "[encoded data removed]",
      "text/plain": [
       "<Figure size 432x288 with 1 Axes>"
      ]
     },
     "metadata": {
      "needs_background": "light"
     },
     "output_type": "display_data"
    }
   ],
   "source": [
    "from scipy.stats import norm\n",
    "x=np.arange(-3,3,0.001)\n",
    "plt.plot(x,norm.pdf(x))"
   ]
  },
  {
   "cell_type": "markdown",
   "metadata": {},
   "source": [
    "# Exponential Porbability Function(PDF)/ \"Power Law\""
   ]
  },
  {
   "cell_type": "code",
   "execution_count": 40,
   "metadata": {},
   "outputs": [
    {
     "data": {
      "text/plain": [
       "[<matplotlib.lines.Line2D at 0x1c2fc6c2d30>]"
      ]
     },
     "execution_count": 40,
     "metadata": {},
     "output_type": "execute_result"
    },
    {
     "data": {
      "image/png": "[encoded data removed]",
      "text/plain": [
       "<Figure size 432x288 with 1 Axes>"
      ]
     },
     "metadata": {
      "needs_background": "light"
     },
     "output_type": "display_data"
    }
   ],
   "source": [
    "from scipy.stats import expon\n",
    "y=np.arange(0,10,0.001)\n",
    "plt.plot(y,expon.pdf(y))"
   ]
  },
  {
   "cell_type": "markdown",
   "metadata": {},
   "source": [
    "# Binomial Probability Mass Function"
   ]
  },
  {
   "cell_type": "code",
   "execution_count": 39,
   "metadata": {},
   "outputs": [
    {
     "data": {
      "text/plain": [
       "[<matplotlib.lines.Line2D at 0x1c2fb9ecf40>]"
      ]
     },
     "execution_count": 39,
     "metadata": {},
     "output_type": "execute_result"
    },
    {
     "data": {
      "image/png": "[encoded data removed]",
      "text/plain": [
       "<Figure size 432x288 with 1 Axes>"
      ]
     },
     "metadata": {
      "needs_background": "light"
     },
     "output_type": "display_data"
    }
   ],
   "source": [
    "from scipy.stats import binom\n",
    "n,p=10,0.5\n",
    "plt.plot(y,binom.pmf(y,n,p))"
   ]
  },
  {
   "cell_type": "markdown",
   "metadata": {},
   "source": [
    "# Poisson Probability Mass Function"
   ]
  },
  {
   "cell_type": "code",
   "execution_count": 38,
   "metadata": {},
   "outputs": [
    {
     "data": {
      "text/plain": [
       "[<matplotlib.lines.Line2D at 0x1c2fbc1e4f0>]"
      ]
     },
     "execution_count": 38,
     "metadata": {},
     "output_type": "execute_result"
    },
    {
     "data": {
      "image/png": "[encoded data removed]",
      "text/plain": [
       "<Figure size 432x288 with 1 Axes>"
      ]
     },
     "metadata": {
      "needs_background": "light"
     },
     "output_type": "display_data"
    }
   ],
   "source": [
    "from scipy.stats import poisson\n",
    "mu=500\n",
    "x=np.arange(400,600,0.5)\n",
    "plt.plot(x,poisson.pmf(x,mu))"
   ]
  },
  {
   "cell_type": "code",
   "execution_count": null,
   "metadata": {},
   "outputs": [],
   "source": []
  }
 ],
 "metadata": {
  "kernelspec": {
   "display_name": "Python 3",
   "language": "python",
   "name": "python3"
  },
  "language_info": {
   "codemirror_mode": {
    "name": "ipython",
    "version": 3
   },
   "file_extension": ".py",
   "mimetype": "text/x-python",
   "name": "python",
   "nbconvert_exporter": "python",
   "pygments_lexer": "ipython3",
   "version": "3.8.5"
  }
 },
 "nbformat": 4,
 "nbformat_minor": 4
}
