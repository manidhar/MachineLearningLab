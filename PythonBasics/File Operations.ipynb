{
 "cells": [
  {
   "cell_type": "code",
   "execution_count": 3,
   "metadata": {},
   "outputs": [],
   "source": [
    "f=open('text.txt')"
   ]
  },
  {
   "cell_type": "code",
   "execution_count": 13,
   "metadata": {},
   "outputs": [],
   "source": [
    "f=open('text.txt','w')"
   ]
  },
  {
   "cell_type": "code",
   "execution_count": 15,
   "metadata": {},
   "outputs": [],
   "source": [
    "f.close()"
   ]
  },
  {
   "cell_type": "code",
   "execution_count": 16,
   "metadata": {},
   "outputs": [],
   "source": [
    "f=open('text.txt')"
   ]
  },
  {
   "cell_type": "code",
   "execution_count": 17,
   "metadata": {},
   "outputs": [
    {
     "data": {
      "text/plain": [
       "''"
      ]
     },
     "execution_count": 17,
     "metadata": {},
     "output_type": "execute_result"
    }
   ],
   "source": [
    "f.read()"
   ]
  },
  {
   "cell_type": "code",
   "execution_count": 18,
   "metadata": {},
   "outputs": [
    {
     "data": {
      "text/plain": [
       "''"
      ]
     },
     "execution_count": 18,
     "metadata": {},
     "output_type": "execute_result"
    }
   ],
   "source": [
    "f.read()"
   ]
  },
  {
   "cell_type": "code",
   "execution_count": 19,
   "metadata": {},
   "outputs": [
    {
     "data": {
      "text/plain": [
       "10"
      ]
     },
     "execution_count": 19,
     "metadata": {},
     "output_type": "execute_result"
    }
   ],
   "source": [
    "f.seek(10)"
   ]
  },
  {
   "cell_type": "code",
   "execution_count": 20,
   "metadata": {},
   "outputs": [
    {
     "data": {
      "text/plain": [
       "''"
      ]
     },
     "execution_count": 20,
     "metadata": {},
     "output_type": "execute_result"
    }
   ],
   "source": [
    "f.read()"
   ]
  },
  {
   "cell_type": "code",
   "execution_count": 21,
   "metadata": {},
   "outputs": [
    {
     "data": {
      "text/plain": [
       "''"
      ]
     },
     "execution_count": 21,
     "metadata": {},
     "output_type": "execute_result"
    }
   ],
   "source": [
    "f.read()"
   ]
  },
  {
   "cell_type": "code",
   "execution_count": 22,
   "metadata": {},
   "outputs": [
    {
     "data": {
      "text/plain": [
       "0"
      ]
     },
     "execution_count": 22,
     "metadata": {},
     "output_type": "execute_result"
    }
   ],
   "source": [
    "f.seek(0)"
   ]
  },
  {
   "cell_type": "code",
   "execution_count": 23,
   "metadata": {},
   "outputs": [
    {
     "data": {
      "text/plain": [
       "''"
      ]
     },
     "execution_count": 23,
     "metadata": {},
     "output_type": "execute_result"
    }
   ],
   "source": [
    "f.read()"
   ]
  },
  {
   "cell_type": "code",
   "execution_count": 25,
   "metadata": {},
   "outputs": [],
   "source": [
    "f.close()"
   ]
  },
  {
   "cell_type": "code",
   "execution_count": 27,
   "metadata": {},
   "outputs": [],
   "source": [
    "f=open('text.txt','r')"
   ]
  },
  {
   "cell_type": "code",
   "execution_count": 28,
   "metadata": {},
   "outputs": [
    {
     "ename": "UnsupportedOperation",
     "evalue": "not writable",
     "output_type": "error",
     "traceback": [
      "\u001b[1;31m---------------------------------------------------------------------------\u001b[0m",
      "\u001b[1;31mUnsupportedOperation\u001b[0m                      Traceback (most recent call last)",
      "\u001b[1;32m<ipython-input-28-2e0fb6c1e358>\u001b[0m in \u001b[0;36m<module>\u001b[1;34m\u001b[0m\n\u001b[1;32m----> 1\u001b[1;33m \u001b[0mf\u001b[0m\u001b[1;33m.\u001b[0m\u001b[0mwrite\u001b[0m\u001b[1;33m(\u001b[0m\u001b[1;34m'cant write as it is in read mode'\u001b[0m\u001b[1;33m)\u001b[0m\u001b[1;33m\u001b[0m\u001b[1;33m\u001b[0m\u001b[0m\n\u001b[0m",
      "\u001b[1;31mUnsupportedOperation\u001b[0m: not writable"
     ]
    }
   ],
   "source": [
    "f.write('cant write as it is in read mode')"
   ]
  },
  {
   "cell_type": "code",
   "execution_count": 29,
   "metadata": {},
   "outputs": [
    {
     "data": {
      "text/plain": [
       "'dsfasdfjldsk\\nsdafjksdafsdakf\\nsadfljdsaflkdsjaflds\\nasdfasdjfldas\\nlkdsajfkldsa\\nsadfljdsalfjs\\nkasjdfljsadlfjaksdljflsdajfkladsjf;ldasjfklsadjfkl;sda\\ndlsfj;lu32oujlasdjflkasdjflsad\\njsdalfjal;sjflsdajf;sd\\nilsdijfliasdjflasdj;fsa\\nlasdjfldsajflasd\\nlsdjafldsajfldsa\\n'"
      ]
     },
     "execution_count": 29,
     "metadata": {},
     "output_type": "execute_result"
    }
   ],
   "source": [
    "f.read()"
   ]
  },
  {
   "cell_type": "code",
   "execution_count": 30,
   "metadata": {},
   "outputs": [
    {
     "data": {
      "text/plain": [
       "''"
      ]
     },
     "execution_count": 30,
     "metadata": {},
     "output_type": "execute_result"
    }
   ],
   "source": [
    "f.read()"
   ]
  },
  {
   "cell_type": "code",
   "execution_count": 32,
   "metadata": {},
   "outputs": [
    {
     "data": {
      "text/plain": [
       "0"
      ]
     },
     "execution_count": 32,
     "metadata": {},
     "output_type": "execute_result"
    }
   ],
   "source": [
    "f.seek(0)"
   ]
  },
  {
   "cell_type": "code",
   "execution_count": 33,
   "metadata": {},
   "outputs": [
    {
     "data": {
      "text/plain": [
       "'dsfasdfjldsk\\nsdafjksdafsd'"
      ]
     },
     "execution_count": 33,
     "metadata": {},
     "output_type": "execute_result"
    }
   ],
   "source": [
    "f.read(25)"
   ]
  },
  {
   "cell_type": "code",
   "execution_count": 34,
   "metadata": {},
   "outputs": [],
   "source": [
    "f.close()"
   ]
  },
  {
   "cell_type": "code",
   "execution_count": 35,
   "metadata": {},
   "outputs": [
    {
     "ename": "ValueError",
     "evalue": "I/O operation on closed file.",
     "output_type": "error",
     "traceback": [
      "\u001b[1;31m---------------------------------------------------------------------------\u001b[0m",
      "\u001b[1;31mValueError\u001b[0m                                Traceback (most recent call last)",
      "\u001b[1;32m<ipython-input-35-571e9fb02258>\u001b[0m in \u001b[0;36m<module>\u001b[1;34m\u001b[0m\n\u001b[1;32m----> 1\u001b[1;33m \u001b[0mf\u001b[0m\u001b[1;33m.\u001b[0m\u001b[0mread\u001b[0m\u001b[1;33m(\u001b[0m\u001b[1;33m)\u001b[0m\u001b[1;33m\u001b[0m\u001b[1;33m\u001b[0m\u001b[0m\n\u001b[0m",
      "\u001b[1;31mValueError\u001b[0m: I/O operation on closed file."
     ]
    }
   ],
   "source": [
    "f.read()"
   ]
  },
  {
   "cell_type": "code",
   "execution_count": 36,
   "metadata": {},
   "outputs": [],
   "source": [
    "f=open('test.txt','a')"
   ]
  },
  {
   "cell_type": "code",
   "execution_count": 37,
   "metadata": {},
   "outputs": [
    {
     "data": {
      "text/plain": [
       "45"
      ]
     },
     "execution_count": 37,
     "metadata": {},
     "output_type": "execute_result"
    }
   ],
   "source": [
    "f.write('lsdafjdlsajfldsajfk;lsdajfkljadsklfjsalkfjlas')"
   ]
  },
  {
   "cell_type": "code",
   "execution_count": 39,
   "metadata": {},
   "outputs": [],
   "source": [
    "f.close()"
   ]
  },
  {
   "cell_type": "code",
   "execution_count": 40,
   "metadata": {},
   "outputs": [],
   "source": [
    "f=open('test.txt')"
   ]
  },
  {
   "cell_type": "code",
   "execution_count": 41,
   "metadata": {},
   "outputs": [
    {
     "data": {
      "text/plain": [
       "'lsdafjdlsajfldsajfk;lsdajfkljadsklfjsalkfjlas'"
      ]
     },
     "execution_count": 41,
     "metadata": {},
     "output_type": "execute_result"
    }
   ],
   "source": [
    "f.read()"
   ]
  },
  {
   "cell_type": "code",
   "execution_count": 42,
   "metadata": {},
   "outputs": [],
   "source": [
    "f.close()"
   ]
  },
  {
   "cell_type": "code",
   "execution_count": 43,
   "metadata": {},
   "outputs": [],
   "source": [
    "f=open('text.txt','r')"
   ]
  },
  {
   "cell_type": "code",
   "execution_count": 44,
   "metadata": {},
   "outputs": [
    {
     "data": {
      "text/plain": [
       "'dsfasdfjldsk\\nsdafjksdafsdakf\\nsadfljdsaflkdsjaflds\\nasdfasdjfldas\\nlkdsajfkldsa\\nsadfljdsalfjs\\nkasjdfljsadlfjaksdljflsdajfkladsjf;ldasjfklsadjfkl;sda\\ndlsfj;lu32oujlasdjflkasdjflsad\\njsdalfjal;sjflsdajf;sd\\nilsdijfliasdjflasdj;fsa\\nlasdjfldsajflasd\\nlsdjafldsajfldsa\\n'"
      ]
     },
     "execution_count": 44,
     "metadata": {},
     "output_type": "execute_result"
    }
   ],
   "source": [
    "f.read()"
   ]
  },
  {
   "cell_type": "code",
   "execution_count": 48,
   "metadata": {},
   "outputs": [
    {
     "data": {
      "text/plain": [
       "0"
      ]
     },
     "execution_count": 48,
     "metadata": {},
     "output_type": "execute_result"
    }
   ],
   "source": [
    "f.seek(0)"
   ]
  },
  {
   "cell_type": "code",
   "execution_count": 46,
   "metadata": {},
   "outputs": [
    {
     "data": {
      "text/plain": [
       "'dsfasdfjldsk\\n'"
      ]
     },
     "execution_count": 46,
     "metadata": {},
     "output_type": "execute_result"
    }
   ],
   "source": [
    "f.readline()"
   ]
  },
  {
   "cell_type": "code",
   "execution_count": 47,
   "metadata": {},
   "outputs": [
    {
     "data": {
      "text/plain": [
       "'sdafjksdafsdakf\\n'"
      ]
     },
     "execution_count": 47,
     "metadata": {},
     "output_type": "execute_result"
    }
   ],
   "source": [
    "f.readline()"
   ]
  },
  {
   "cell_type": "code",
   "execution_count": 49,
   "metadata": {},
   "outputs": [
    {
     "data": {
      "text/plain": [
       "'dsfas'"
      ]
     },
     "execution_count": 49,
     "metadata": {},
     "output_type": "execute_result"
    }
   ],
   "source": [
    "f.readline(5)"
   ]
  },
  {
   "cell_type": "code",
   "execution_count": 50,
   "metadata": {},
   "outputs": [
    {
     "data": {
      "text/plain": [
       "'dfjldsk\\n'"
      ]
     },
     "execution_count": 50,
     "metadata": {},
     "output_type": "execute_result"
    }
   ],
   "source": [
    "f.readline(9)"
   ]
  },
  {
   "cell_type": "code",
   "execution_count": 51,
   "metadata": {},
   "outputs": [],
   "source": [
    "f.close()"
   ]
  },
  {
   "cell_type": "code",
   "execution_count": 55,
   "metadata": {},
   "outputs": [
    {
     "name": "stdout",
     "output_type": "stream",
     "text": [
      "dsfasdfjldsk\n",
      "\n",
      "sdafjksdafsdakf\n",
      "\n",
      "sadfljdsaflkdsjaflds\n",
      "\n",
      "asdfasdjfldas\n",
      "\n",
      "lkdsajfkldsa\n",
      "\n",
      "sadfljdsalfjs\n",
      "\n",
      "kasjdfljsadlfjaksdljflsdajfkladsjf;ldasjfklsadjfkl;sda\n",
      "\n",
      "dlsfj;lu32oujlasdjflkasdjflsad\n",
      "\n",
      "jsdalfjal;sjflsdajf;sd\n",
      "\n",
      "ilsdijfliasdjflasdj;fsa\n",
      "\n",
      "lasdjfldsajflasd\n",
      "\n",
      "lsdjafldsajfldsa\n",
      "\n"
     ]
    }
   ],
   "source": [
    "f=open('text.txt','r')\n",
    "for i in f:\n",
    "    print(i)\n",
    "f.close()"
   ]
  },
  {
   "cell_type": "code",
   "execution_count": 59,
   "metadata": {},
   "outputs": [
    {
     "name": "stdout",
     "output_type": "stream",
     "text": [
      "['dsfasdfjldsk\\n', 'sdafjksdafsdakf\\n', 'sadfljdsaflkdsjaflds\\n', 'asdfasdjfldas\\n', 'lkdsajfkldsa\\n', 'sadfljdsalfjs\\n', 'kasjdfljsadlfjaksdljflsdajfkladsjf;ldasjfklsadjfkl;sda\\n', 'dlsfj;lu32oujlasdjflkasdjflsad\\n', 'jsdalfjal;sjflsdajf;sd\\n', 'ilsdijfliasdjflasdj;fsa\\n', 'lasdjfldsajflasd\\n', 'lsdjafldsajfldsa\\n']\n"
     ]
    }
   ],
   "source": [
    "f=open('text.txt','r')\n",
    "ls=[]\n",
    "for i in f:\n",
    "    ls.append(i)\n",
    "print(ls)\n",
    "f.close()"
   ]
  },
  {
   "cell_type": "code",
   "execution_count": 61,
   "metadata": {},
   "outputs": [
    {
     "name": "stdout",
     "output_type": "stream",
     "text": [
      "sk\n",
      "sdafjksdafsdakf\n",
      "sadfljdsaflkdsjaflds\n",
      "asdfasdjfldas\n",
      "lkdsajfkldsa\n",
      "sadfljdsalfjs\n",
      "kasjdfljsadlfjaksdljflsdajfkladsjf;ldasjfklsadjfkl;sda\n",
      "dlsfj;lu32oujlasdjflkasdjflsad\n",
      "jsdalfjal;sjflsdajf;sd\n",
      "ilsdijfliasdjflasdj;fsa\n",
      "lasdjfldsajflasd\n",
      "lsdjafldsajfldsa\n",
      "\n"
     ]
    }
   ],
   "source": [
    "f=open('text.txt','r+')\n",
    "f.write('read write')\n",
    "print(f.read())\n",
    "f.close()"
   ]
  },
  {
   "cell_type": "code",
   "execution_count": 62,
   "metadata": {},
   "outputs": [
    {
     "name": "stdout",
     "output_type": "stream",
     "text": [
      "Writing test5.txt\n"
     ]
    }
   ],
   "source": [
    "%%writefile test5.txt\n",
    "my name is Manidhar "
   ]
  },
  {
   "cell_type": "code",
   "execution_count": 65,
   "metadata": {},
   "outputs": [
    {
     "data": {
      "text/plain": [
       "'my name is Manidhar \\n'"
      ]
     },
     "execution_count": 65,
     "metadata": {},
     "output_type": "execute_result"
    }
   ],
   "source": [
    "f=open('test5.txt')\n",
    "f.read()"
   ]
  },
  {
   "cell_type": "code",
   "execution_count": 67,
   "metadata": {},
   "outputs": [
    {
     "data": {
      "text/plain": [
       "4"
      ]
     },
     "execution_count": 67,
     "metadata": {},
     "output_type": "execute_result"
    }
   ],
   "source": [
    "f.fileno()"
   ]
  },
  {
   "cell_type": "code",
   "execution_count": 68,
   "metadata": {},
   "outputs": [],
   "source": [
    "f.close()"
   ]
  },
  {
   "cell_type": "code",
   "execution_count": 69,
   "metadata": {},
   "outputs": [],
   "source": [
    "import os"
   ]
  },
  {
   "cell_type": "code",
   "execution_count": 70,
   "metadata": {},
   "outputs": [
    {
     "data": {
      "text/plain": [
       "'F:\\\\DataSciencePractise\\\\MachineLearningLab\\\\PythonBasics'"
      ]
     },
     "execution_count": 70,
     "metadata": {},
     "output_type": "execute_result"
    }
   ],
   "source": [
    "pwd()"
   ]
  },
  {
   "cell_type": "code",
   "execution_count": 71,
   "metadata": {},
   "outputs": [
    {
     "data": {
      "text/plain": [
       "'F:\\\\DataSciencePractise\\\\MachineLearningLab\\\\PythonBasics'"
      ]
     },
     "execution_count": 71,
     "metadata": {},
     "output_type": "execute_result"
    }
   ],
   "source": [
    "os.getcwd()"
   ]
  },
  {
   "cell_type": "code",
   "execution_count": 72,
   "metadata": {},
   "outputs": [
    {
     "data": {
      "text/plain": [
       "['.ipynb_checkpoints',\n",
       " 'Basics.ipynb',\n",
       " 'debug.log',\n",
       " 'File Operations.ipynb',\n",
       " 'Functions.ipynb',\n",
       " 'Graphs using Matplotlib.ipynb',\n",
       " 'Graphs using seaborn.ipynb',\n",
       " 'myplot.png',\n",
       " 'OOps Concepts.ipynb',\n",
       " 'Pandas Tutorial.ipynb',\n",
       " 'Percentails.ipynb',\n",
       " 'Python Assignment 1.ipynb',\n",
       " 'Python Data Structures.ipynb',\n",
       " 'Statstics.ipynb',\n",
       " 'test.txt',\n",
       " 'test5.txt',\n",
       " 'text.txt',\n",
       " 'Tuple,set,Dictionary.ipynb',\n",
       " 'Untitled.ipynb',\n",
       " 'Untitled1.ipynb']"
      ]
     },
     "execution_count": 72,
     "metadata": {},
     "output_type": "execute_result"
    }
   ],
   "source": [
    "os.listdir()"
   ]
  },
  {
   "cell_type": "code",
   "execution_count": 73,
   "metadata": {},
   "outputs": [
    {
     "data": {
      "text/plain": [
       "['.git',\n",
       " '.gitignore',\n",
       " '.ipynb_checkpoints',\n",
       " 'cardekho',\n",
       " 'classification',\n",
       " 'Data Visualisation with Pandas.ipynb',\n",
       " 'Data Visulisation with Plotly and Cufflinks.ipynb',\n",
       " 'datasets',\n",
       " 'ipl prediction from great learning.ipynb',\n",
       " 'ipldataset',\n",
       " 'IPL_2008_2019.ipynb',\n",
       " 'MLServices',\n",
       " 'Mongo DB using pymongo.ipynb',\n",
       " 'my_database1.sqlite',\n",
       " 'my_database4.db',\n",
       " 'PythonBasics',\n",
       " 'README.md',\n",
       " 'Regression',\n",
       " 'SparkBasics',\n",
       " 'Stock Price Analysis.ipynb',\n",
       " 'Untitled Folder',\n",
       " 'Untitled.ipynb',\n",
       " 'Untitled1.ipynb']"
      ]
     },
     "execution_count": 73,
     "metadata": {},
     "output_type": "execute_result"
    }
   ],
   "source": [
    "os.listdir('F:\\\\DataSciencePractise\\\\MachineLearningLab')"
   ]
  },
  {
   "cell_type": "markdown",
   "metadata": {},
   "source": [
    "1. Create a directory\n",
    "2. Create 10 txt files and write some data\n",
    "3. read all the files from this folder and print in console\n",
    "4. hold all the data into list\n",
    "5. write all the data in newfile \n",
    "6. Keep only new file and move other files into other folder\n"
   ]
  },
  {
   "cell_type": "code",
   "execution_count": 74,
   "metadata": {},
   "outputs": [],
   "source": [
    "os.mkdir('mydir')"
   ]
  },
  {
   "cell_type": "code",
   "execution_count": 75,
   "metadata": {},
   "outputs": [
    {
     "data": {
      "text/plain": [
       "'F:\\\\DataSciencePractise\\\\MachineLearningLab\\\\PythonBasics'"
      ]
     },
     "execution_count": 75,
     "metadata": {},
     "output_type": "execute_result"
    }
   ],
   "source": [
    "pwd()"
   ]
  },
  {
   "cell_type": "code",
   "execution_count": 76,
   "metadata": {},
   "outputs": [
    {
     "data": {
      "text/plain": [
       "['.ipynb_checkpoints',\n",
       " 'Basics.ipynb',\n",
       " 'debug.log',\n",
       " 'File Operations.ipynb',\n",
       " 'Functions.ipynb',\n",
       " 'Graphs using Matplotlib.ipynb',\n",
       " 'Graphs using seaborn.ipynb',\n",
       " 'mydir',\n",
       " 'myplot.png',\n",
       " 'OOps Concepts.ipynb',\n",
       " 'Pandas Tutorial.ipynb',\n",
       " 'Percentails.ipynb',\n",
       " 'Python Assignment 1.ipynb',\n",
       " 'Python Data Structures.ipynb',\n",
       " 'Statstics.ipynb',\n",
       " 'test.txt',\n",
       " 'test5.txt',\n",
       " 'text.txt',\n",
       " 'Tuple,set,Dictionary.ipynb',\n",
       " 'Untitled.ipynb',\n",
       " 'Untitled1.ipynb']"
      ]
     },
     "execution_count": 76,
     "metadata": {},
     "output_type": "execute_result"
    }
   ],
   "source": [
    "os.listdir()"
   ]
  },
  {
   "cell_type": "code",
   "execution_count": 77,
   "metadata": {},
   "outputs": [],
   "source": [
    "os.chdir('mydir/')"
   ]
  },
  {
   "cell_type": "code",
   "execution_count": 78,
   "metadata": {},
   "outputs": [
    {
     "data": {
      "text/plain": [
       "'F:\\\\DataSciencePractise\\\\MachineLearningLab\\\\PythonBasics\\\\mydir'"
      ]
     },
     "execution_count": 78,
     "metadata": {},
     "output_type": "execute_result"
    }
   ],
   "source": [
    "pwd()"
   ]
  },
  {
   "cell_type": "code",
   "execution_count": 79,
   "metadata": {},
   "outputs": [
    {
     "name": "stdout",
     "output_type": "stream",
     "text": [
      "Enter number of files you want to create2\n",
      "Enter file name abcd.txt\n",
      "Enter the textsdalfdsaf\n",
      "If you want to close the file please key in Yn\n",
      "Enter the textsdlafjsalflsa\n",
      "If you want to close the file please key in Ydsjalfjdaslf\n",
      "Enter the textsdafljdsflsadlfjsaldfjldas\n",
      "If you want to close the file please key in YY\n",
      "Enter file name kbc.txt\n",
      "Enter the textlsdajfldasjflksdajfl\n",
      "If you want to close the file please key in YY\n"
     ]
    }
   ],
   "source": [
    "os.mkdir('mydir')\n",
    "os.chdir('mydir/')\n",
    "n= int(input('Enter number of files you want to create'))\n",
    "ls=[]\n",
    "for i in range(n):\n",
    "    fname=input('Enter file name ')\n",
    "    f=open(fname,'w')\n",
    "    closefile=False\n",
    "    while closefile is False:\n",
    "        f.write(input('Enter the text'))\n",
    "        resp=input('If you want to close the file please key in Y')\n",
    "        if resp == 'Y':\n",
    "            closefile=True\n",
    "    f.close()\n",
    "    f=open(fname,'r')\n",
    "    ls.append(f.read())\n",
    "    f.close()\n",
    "import shutil\n",
    "\n",
    "f= open('new')"
   ]
  },
  {
   "cell_type": "code",
   "execution_count": null,
   "metadata": {},
   "outputs": [],
   "source": []
  }
 ],
 "metadata": {
  "kernelspec": {
   "display_name": "Python 3",
   "language": "python",
   "name": "python3"
  },
  "language_info": {
   "codemirror_mode": {
    "name": "ipython",
    "version": 3
   },
   "file_extension": ".py",
   "mimetype": "text/x-python",
   "name": "python",
   "nbconvert_exporter": "python",
   "pygments_lexer": "ipython3",
   "version": "3.8.5"
  }
 },
 "nbformat": 4,
 "nbformat_minor": 4
}
