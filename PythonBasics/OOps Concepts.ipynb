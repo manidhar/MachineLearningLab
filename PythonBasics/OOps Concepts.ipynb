{
 "cells": [
  {
   "cell_type": "markdown",
   "metadata": {},
   "source": [
    "# Object Oreinted Programming"
   ]
  },
  {
   "cell_type": "markdown",
   "metadata": {},
   "source": [
    "### 1.Inheritance \n",
    "### 2.Polymorphism\n",
    "### 3.Encapsulation\n",
    "### 4.Abstraction"
   ]
  },
  {
   "cell_type": "markdown",
   "metadata": {},
   "source": [
    "# Inheritance"
   ]
  },
  {
   "cell_type": "markdown",
   "metadata": {},
   "source": [
    "Inherting the features from parent"
   ]
  },
  {
   "cell_type": "markdown",
   "metadata": {},
   "source": [
    "# Polymorphism"
   ]
  },
  {
   "cell_type": "markdown",
   "metadata": {},
   "source": [
    "ploy(multiple) + morphic(behaviour) = function overloading and function overriding"
   ]
  },
  {
   "cell_type": "code",
   "execution_count": 1,
   "metadata": {},
   "outputs": [],
   "source": [
    "class Person:\n",
    "    pass"
   ]
  },
  {
   "cell_type": "code",
   "execution_count": 3,
   "metadata": {},
   "outputs": [],
   "source": [
    "class Person:\n",
    "    def __init__(self,name,surename,dob):\n",
    "        self.name=name\n",
    "        self.surename=surename\n",
    "        self.dob=dob\n",
    "    \n",
    "    def age(self,currentYear):\n",
    "        return currentYear-self.dob\n",
    "    def __str__(self):\n",
    "        return ('%s %s was born on %d '%(self.name,self.surename,self.dob))"
   ]
  },
  {
   "cell_type": "code",
   "execution_count": 6,
   "metadata": {},
   "outputs": [
    {
     "name": "stdout",
     "output_type": "stream",
     "text": [
      "Manidhar Karnatakam was born on 1982 \n"
     ]
    },
    {
     "data": {
      "text/plain": [
       "39"
      ]
     },
     "execution_count": 6,
     "metadata": {},
     "output_type": "execute_result"
    }
   ],
   "source": [
    "perObj=Person(\"Manidhar\",\"Karnatakam\",1982)\n",
    "print(perObj)\n",
    "perObj.age(2021)"
   ]
  },
  {
   "cell_type": "code",
   "execution_count": 7,
   "metadata": {},
   "outputs": [],
   "source": [
    "class Student(Person):\n",
    "    def __init__(self,studentId,*args):\n",
    "        super(Student,self).__init__(*args)\n",
    "        self.studentId=studentId\n"
   ]
  },
  {
   "cell_type": "code",
   "execution_count": 8,
   "metadata": {},
   "outputs": [],
   "source": [
    "stdObj= Student(1,\"Manidhar\",\"Karnatakam\",1982)"
   ]
  },
  {
   "cell_type": "code",
   "execution_count": 9,
   "metadata": {},
   "outputs": [
    {
     "name": "stdout",
     "output_type": "stream",
     "text": [
      "1\n"
     ]
    }
   ],
   "source": [
    "print(stdObj.studentId)"
   ]
  },
  {
   "cell_type": "code",
   "execution_count": 11,
   "metadata": {},
   "outputs": [
    {
     "name": "stdout",
     "output_type": "stream",
     "text": [
      "<class '__main__.Student'>\n",
      "True\n",
      "True\n",
      "True\n",
      "False\n"
     ]
    }
   ],
   "source": [
    "print(type(stdObj))\n",
    "print(isinstance(stdObj,Person))\n",
    "print(isinstance(stdObj,object))\n",
    "print(isinstance(perObj,Person))\n",
    "print(isinstance(perObj,Student))"
   ]
  },
  {
   "cell_type": "code",
   "execution_count": 1,
   "metadata": {},
   "outputs": [],
   "source": [
    "class Student1:\n",
    "    def __init__(self,name,surename,yob,class_studyning):\n",
    "        self.name=name\n",
    "        self.surename=surename\n",
    "        self.yob=yob\n",
    "        self.class_studyning=class_studyning\n",
    "\n",
    "    def __str__(self):\n",
    "        return ('%s %s was born on %d and studing in %s '%(self.name,self.surename,self.yob,self.class_studyning))\n",
    "        "
   ]
  },
  {
   "cell_type": "code",
   "execution_count": 12,
   "metadata": {},
   "outputs": [],
   "source": [
    "class School(Student1):\n",
    "    def __init__(self,school_name,*args):\n",
    "        super(School,self).__init__(*args)\n",
    "        self.school_name=school_name\n",
    "    \n",
    "    def __str__(self):\n",
    "        return \"School Name :\"+self.school_name\n",
    "        "
   ]
  },
  {
   "cell_type": "code",
   "execution_count": null,
   "metadata": {},
   "outputs": [
    {
     "name": "stdout",
     "output_type": "stream",
     "text": [
      "Enter School NamePriya Darshni\n",
      "Enter number of students you want in school2\n",
      "Enter name of the StudentManidhar\n",
      "Enter sure name of the StudentKarnatakam\n",
      "Enter year of birth1982\n",
      "Enter class studingMCA\n",
      "School Name :Priya Darshni\n"
     ]
    }
   ],
   "source": [
    "lstudents=[]\n",
    "sn=input('Enter School Name')\n",
    "n=int(input('Enter number of students you want in school'))\n",
    "for a in range(0,n):\n",
    "    name=input('Enter name of the Student')\n",
    "    surName=input('Enter sure name of the Student')\n",
    "    yob=int(input('Enter year of birth'))\n",
    "    cs=input('Enter class studing')\n",
    "    schObj= School(sn,name,surName,yob,cs)\n",
    "    print(schObj)"
   ]
  },
  {
   "cell_type": "code",
   "execution_count": null,
   "metadata": {},
   "outputs": [],
   "source": []
  }
 ],
 "metadata": {
  "kernelspec": {
   "display_name": "Python 3",
   "language": "python",
   "name": "python3"
  },
  "language_info": {
   "codemirror_mode": {
    "name": "ipython",
    "version": 3
   },
   "file_extension": ".py",
   "mimetype": "text/x-python",
   "name": "python",
   "nbconvert_exporter": "python",
   "pygments_lexer": "ipython3",
   "version": "3.8.5"
  }
 },
 "nbformat": 4,
 "nbformat_minor": 4
}
