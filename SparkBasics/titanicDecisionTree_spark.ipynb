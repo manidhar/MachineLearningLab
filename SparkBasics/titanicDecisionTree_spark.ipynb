{
 "cells": [
  {
   "cell_type": "code",
   "execution_count": 4,
   "metadata": {},
   "outputs": [],
   "source": [
    "from pyspark.sql import SparkSession\n",
    "from pyspark.ml.feature import VectorAssembler\n",
    "from pyspark.ml.classification import DecisionTreeClassifier\n",
    "spark=SparkSession.builder.getOrCreate()"
   ]
  },
  {
   "cell_type": "code",
   "execution_count": 14,
   "metadata": {},
   "outputs": [],
   "source": [
    "df2=spark.read.csv('C:/Manidhar/MachineLearningLab/datasets/titanic/train.csv',header=True)\n",
    "df3=df2.select('Pclass','SibSp','Survived','Fare')\n",
    "df3=df2.select(df3.Pclass.cast('double'),df3.SibSp.cast('double'),df3.Survived.cast('double'),df3.Fare.cast('double'))"
   ]
  },
  {
   "cell_type": "code",
   "execution_count": 15,
   "metadata": {},
   "outputs": [],
   "source": [
    "df3=VectorAssembler(inputCols=['Pclass','SibSp','Fare'], outputCol=\"Features\").transform(df3)"
   ]
  },
  {
   "cell_type": "code",
   "execution_count": 16,
   "metadata": {},
   "outputs": [
    {
     "name": "stdout",
     "output_type": "stream",
     "text": [
      "root\n",
      " |-- Pclass: double (nullable = true)\n",
      " |-- SibSp: double (nullable = true)\n",
      " |-- Survived: double (nullable = true)\n",
      " |-- Fare: double (nullable = true)\n",
      " |-- Features: vector (nullable = true)\n",
      "\n"
     ]
    }
   ],
   "source": [
    "df3.printSchema()"
   ]
  },
  {
   "cell_type": "code",
   "execution_count": 25,
   "metadata": {},
   "outputs": [
    {
     "name": "stdout",
     "output_type": "stream",
     "text": [
      "+------+-----+--------+-------+-----------------+\n",
      "|Pclass|SibSp|Survived|   Fare|         Features|\n",
      "+------+-----+--------+-------+-----------------+\n",
      "|   3.0|  1.0|     0.0|   7.25|   [3.0,1.0,7.25]|\n",
      "|   1.0|  1.0|     1.0|71.2833|[1.0,1.0,71.2833]|\n",
      "|   3.0|  0.0|     1.0|  7.925|  [3.0,0.0,7.925]|\n",
      "|   1.0|  1.0|     1.0|   53.1|   [1.0,1.0,53.1]|\n",
      "|   3.0|  0.0|     0.0|   8.05|   [3.0,0.0,8.05]|\n",
      "|   3.0|  0.0|     0.0| 8.4583| [3.0,0.0,8.4583]|\n",
      "|   1.0|  0.0|     0.0|51.8625|[1.0,0.0,51.8625]|\n",
      "|   3.0|  3.0|     0.0| 21.075| [3.0,3.0,21.075]|\n",
      "|   3.0|  0.0|     1.0|11.1333|[3.0,0.0,11.1333]|\n",
      "|   2.0|  1.0|     1.0|30.0708|[2.0,1.0,30.0708]|\n",
      "|   3.0|  1.0|     1.0|   16.7|   [3.0,1.0,16.7]|\n",
      "|   1.0|  0.0|     1.0|  26.55|  [1.0,0.0,26.55]|\n",
      "|   3.0|  0.0|     0.0|   8.05|   [3.0,0.0,8.05]|\n",
      "|   3.0|  1.0|     0.0| 31.275| [3.0,1.0,31.275]|\n",
      "|   3.0|  0.0|     0.0| 7.8542| [3.0,0.0,7.8542]|\n",
      "|   2.0|  0.0|     1.0|   16.0|   [2.0,0.0,16.0]|\n",
      "|   3.0|  4.0|     0.0| 29.125| [3.0,4.0,29.125]|\n",
      "|   2.0|  0.0|     1.0|   13.0|   [2.0,0.0,13.0]|\n",
      "|   3.0|  1.0|     0.0|   18.0|   [3.0,1.0,18.0]|\n",
      "|   3.0|  0.0|     1.0|  7.225|  [3.0,0.0,7.225]|\n",
      "+------+-----+--------+-------+-----------------+\n",
      "only showing top 20 rows\n",
      "\n"
     ]
    }
   ],
   "source": [
    "df3.show()"
   ]
  },
  {
   "cell_type": "code",
   "execution_count": 17,
   "metadata": {},
   "outputs": [],
   "source": [
    "# dt1 is called as estimator or classifier or regresser\n",
    "dt1=DecisionTreeClassifier(featuresCol='Features',labelCol='Survived',maxDepth=10,impurity='entropy')"
   ]
  },
  {
   "cell_type": "code",
   "execution_count": 18,
   "metadata": {},
   "outputs": [],
   "source": [
    "model1=dt1.fit(df3)"
   ]
  },
  {
   "cell_type": "code",
   "execution_count": 24,
   "metadata": {},
   "outputs": [
    {
     "data": {
      "text/plain": [
       "10"
      ]
     },
     "execution_count": 24,
     "metadata": {},
     "output_type": "execute_result"
    }
   ],
   "source": [
    "model1.depth"
   ]
  },
  {
   "cell_type": "code",
   "execution_count": 22,
   "metadata": {},
   "outputs": [
    {
     "name": "stdout",
     "output_type": "stream",
     "text": [
      "DecisionTreeClassificationModel (uid=DecisionTreeClassifier_4018a0c227fbc89a87d5) of depth 10 with 165 nodes\n",
      "  If (feature 0 <= 2.5)\n",
      "   If (feature 2 <= 15.525)\n",
      "    If (feature 2 <= 7.0104)\n",
      "     Predict: 0.0\n",
      "    Else (feature 2 > 7.0104)\n",
      "     If (feature 1 <= 1.5)\n",
      "      If (feature 1 <= 0.5)\n",
      "       If (feature 2 <= 14.45625)\n",
      "        If (feature 2 <= 13.20835)\n",
      "         If (feature 2 <= 10.50835)\n",
      "          Predict: 0.0\n",
      "         Else (feature 2 > 10.50835)\n",
      "          If (feature 2 <= 12.9375)\n",
      "           Predict: 0.0\n",
      "          Else (feature 2 > 12.9375)\n",
      "           Predict: 0.0\n",
      "        Else (feature 2 > 13.20835)\n",
      "         Predict: 0.0\n",
      "       Else (feature 2 > 14.45625)\n",
      "        Predict: 0.0\n",
      "      Else (feature 1 > 0.5)\n",
      "       If (feature 2 <= 12.9375)\n",
      "        Predict: 0.0\n",
      "       Else (feature 2 > 12.9375)\n",
      "        Predict: 1.0\n",
      "     Else (feature 1 > 1.5)\n",
      "      Predict: 0.0\n",
      "   Else (feature 2 > 15.525)\n",
      "    If (feature 2 <= 55.22085)\n",
      "     If (feature 1 <= 1.5)\n",
      "      If (feature 2 <= 18.375)\n",
      "       Predict: 1.0\n",
      "      Else (feature 2 > 18.375)\n",
      "       If (feature 1 <= 0.5)\n",
      "        If (feature 2 <= 24.808349999999997)\n",
      "         Predict: 1.0\n",
      "        Else (feature 2 > 24.808349999999997)\n",
      "         If (feature 2 <= 31.1375)\n",
      "          If (feature 2 <= 26.125)\n",
      "           If (feature 0 <= 1.5)\n",
      "            Predict: 0.0\n",
      "           Else (feature 0 > 1.5)\n",
      "            Predict: 0.0\n",
      "          Else (feature 2 > 26.125)\n",
      "           If (feature 2 <= 26.46875)\n",
      "            Predict: 1.0\n",
      "           Else (feature 2 > 26.46875)\n",
      "            Predict: 1.0\n",
      "         Else (feature 2 > 31.1375)\n",
      "          If (feature 0 <= 1.5)\n",
      "           If (feature 2 <= 47.0)\n",
      "            Predict: 0.0\n",
      "           Else (feature 2 > 47.0)\n",
      "            Predict: 0.0\n",
      "          Else (feature 0 > 1.5)\n",
      "           If (feature 2 <= 36.125)\n",
      "            Predict: 1.0\n",
      "           Else (feature 2 > 36.125)\n",
      "            Predict: 1.0\n",
      "       Else (feature 1 > 0.5)\n",
      "        If (feature 2 <= 21.0375)\n",
      "         Predict: 0.0\n",
      "        Else (feature 2 > 21.0375)\n",
      "         If (feature 0 <= 1.5)\n",
      "          If (feature 2 <= 47.0)\n",
      "           Predict: 1.0\n",
      "          Else (feature 2 > 47.0)\n",
      "           Predict: 1.0\n",
      "         Else (feature 0 > 1.5)\n",
      "          If (feature 2 <= 24.808349999999997)\n",
      "           Predict: 1.0\n",
      "          Else (feature 2 > 24.808349999999997)\n",
      "           If (feature 2 <= 36.125)\n",
      "            Predict: 1.0\n",
      "           Else (feature 2 > 36.125)\n",
      "            Predict: 0.0\n",
      "     Else (feature 1 > 1.5)\n",
      "      Predict: 1.0\n",
      "    Else (feature 2 > 55.22085)\n",
      "     If (feature 0 <= 1.5)\n",
      "      If (feature 2 <= 149.0354)\n",
      "       If (feature 1 <= 1.5)\n",
      "        If (feature 2 <= 79.025)\n",
      "         If (feature 2 <= 69.425)\n",
      "          If (feature 1 <= 0.5)\n",
      "           Predict: 1.0\n",
      "          Else (feature 1 > 0.5)\n",
      "           Predict: 1.0\n",
      "         Else (feature 2 > 69.425)\n",
      "          If (feature 1 <= 0.5)\n",
      "           Predict: 1.0\n",
      "          Else (feature 1 > 0.5)\n",
      "           Predict: 1.0\n",
      "        Else (feature 2 > 79.025)\n",
      "         If (feature 1 <= 0.5)\n",
      "          If (feature 2 <= 92.28960000000001)\n",
      "           Predict: 1.0\n",
      "          Else (feature 2 > 92.28960000000001)\n",
      "           Predict: 1.0\n",
      "         Else (feature 1 > 0.5)\n",
      "          Predict: 1.0\n",
      "       Else (feature 1 > 1.5)\n",
      "        If (feature 2 <= 92.28960000000001)\n",
      "         Predict: 0.0\n",
      "        Else (feature 2 > 92.28960000000001)\n",
      "         Predict: 1.0\n",
      "      Else (feature 2 > 149.0354)\n",
      "       If (feature 1 <= 1.5)\n",
      "        If (feature 1 <= 0.5)\n",
      "         Predict: 1.0\n",
      "        Else (feature 1 > 0.5)\n",
      "         Predict: 0.0\n",
      "       Else (feature 1 > 1.5)\n",
      "        If (feature 1 <= 2.5)\n",
      "         Predict: 1.0\n",
      "        Else (feature 1 > 2.5)\n",
      "         Predict: 1.0\n",
      "     Else (feature 0 > 1.5)\n",
      "      If (feature 2 <= 69.425)\n",
      "       Predict: 1.0\n",
      "      Else (feature 2 > 69.425)\n",
      "       Predict: 0.0\n",
      "  Else (feature 0 > 2.5)\n",
      "   If (feature 2 <= 10.50835)\n",
      "    If (feature 2 <= 7.89165)\n",
      "     If (feature 2 <= 7.40415)\n",
      "      If (feature 1 <= 0.5)\n",
      "       If (feature 2 <= 7.2271)\n",
      "        If (feature 2 <= 7.0104)\n",
      "         Predict: 0.0\n",
      "        Else (feature 2 > 7.0104)\n",
      "         Predict: 0.0\n",
      "       Else (feature 2 > 7.2271)\n",
      "        Predict: 0.0\n",
      "      Else (feature 1 > 0.5)\n",
      "       Predict: 0.0\n",
      "     Else (feature 2 > 7.40415)\n",
      "      If (feature 2 <= 7.8416999999999994)\n",
      "       If (feature 2 <= 7.7625)\n",
      "        If (feature 1 <= 0.5)\n",
      "         If (feature 2 <= 7.74585)\n",
      "          Predict: 0.0\n",
      "         Else (feature 2 > 7.74585)\n",
      "          Predict: 0.0\n",
      "        Else (feature 1 > 0.5)\n",
      "         Predict: 0.0\n",
      "       Else (feature 2 > 7.7625)\n",
      "        If (feature 1 <= 0.5)\n",
      "         Predict: 0.0\n",
      "        Else (feature 1 > 0.5)\n",
      "         Predict: 0.0\n",
      "      Else (feature 2 > 7.8416999999999994)\n",
      "       If (feature 1 <= 0.5)\n",
      "        Predict: 0.0\n",
      "       Else (feature 1 > 0.5)\n",
      "        Predict: 0.0\n",
      "    Else (feature 2 > 7.89165)\n",
      "     If (feature 2 <= 7.9104)\n",
      "      Predict: 0.0\n",
      "     Else (feature 2 > 7.9104)\n",
      "      If (feature 2 <= 8.0396)\n",
      "       If (feature 1 <= 2.5)\n",
      "        If (feature 1 <= 1.5)\n",
      "         Predict: 0.0\n",
      "        Else (feature 1 > 1.5)\n",
      "         Predict: 0.0\n",
      "       Else (feature 1 > 2.5)\n",
      "        Predict: 1.0\n",
      "      Else (feature 2 > 8.0396)\n",
      "       If (feature 1 <= 0.5)\n",
      "        If (feature 2 <= 8.672899999999998)\n",
      "         If (feature 2 <= 8.08125)\n",
      "          Predict: 0.0\n",
      "         Else (feature 2 > 8.08125)\n",
      "          Predict: 0.0\n",
      "        Else (feature 2 > 8.672899999999998)\n",
      "         If (feature 2 <= 9.8396)\n",
      "          Predict: 0.0\n",
      "         Else (feature 2 > 9.8396)\n",
      "          Predict: 0.0\n",
      "       Else (feature 1 > 0.5)\n",
      "        Predict: 0.0\n",
      "   Else (feature 2 > 10.50835)\n",
      "    If (feature 2 <= 12.9375)\n",
      "     If (feature 1 <= 0.5)\n",
      "      Predict: 1.0\n",
      "     Else (feature 1 > 0.5)\n",
      "      Predict: 1.0\n",
      "    Else (feature 2 > 12.9375)\n",
      "     If (feature 1 <= 2.5)\n",
      "      If (feature 2 <= 47.0)\n",
      "       If (feature 2 <= 24.808349999999997)\n",
      "        If (feature 2 <= 15.525)\n",
      "         If (feature 1 <= 0.5)\n",
      "          If (feature 2 <= 14.45625)\n",
      "           Predict: 0.0\n",
      "          Else (feature 2 > 14.45625)\n",
      "           Predict: 0.0\n",
      "         Else (feature 1 > 0.5)\n",
      "          If (feature 2 <= 14.45625)\n",
      "           If (feature 1 <= 1.5)\n",
      "            Predict: 0.0\n",
      "           Else (feature 1 > 1.5)\n",
      "            Predict: 0.0\n",
      "          Else (feature 2 > 14.45625)\n",
      "           Predict: 0.0\n",
      "        Else (feature 2 > 15.525)\n",
      "         If (feature 1 <= 1.5)\n",
      "          If (feature 2 <= 21.0375)\n",
      "           If (feature 1 <= 0.5)\n",
      "            Predict: 0.0\n",
      "           Else (feature 1 > 0.5)\n",
      "            Predict: 0.0\n",
      "          Else (feature 2 > 21.0375)\n",
      "           Predict: 0.0\n",
      "         Else (feature 1 > 1.5)\n",
      "          If (feature 2 <= 18.375)\n",
      "           Predict: 0.0\n",
      "          Else (feature 2 > 18.375)\n",
      "           If (feature 2 <= 21.0375)\n",
      "            Predict: 1.0\n",
      "           Else (feature 2 > 21.0375)\n",
      "            Predict: 0.0\n",
      "       Else (feature 2 > 24.808349999999997)\n",
      "        If (feature 2 <= 31.1375)\n",
      "         Predict: 0.0\n",
      "        Else (feature 2 > 31.1375)\n",
      "         If (feature 1 <= 1.5)\n",
      "          If (feature 2 <= 36.125)\n",
      "           Predict: 0.0\n",
      "          Else (feature 2 > 36.125)\n",
      "           Predict: 0.0\n",
      "         Else (feature 1 > 1.5)\n",
      "          Predict: 0.0\n",
      "      Else (feature 2 > 47.0)\n",
      "       Predict: 1.0\n",
      "     Else (feature 1 > 2.5)\n",
      "      If (feature 2 <= 18.375)\n",
      "       Predict: 1.0\n",
      "      Else (feature 2 > 18.375)\n",
      "       If (feature 2 <= 36.125)\n",
      "        If (feature 2 <= 31.1375)\n",
      "         Predict: 0.0\n",
      "        Else (feature 2 > 31.1375)\n",
      "         Predict: 0.0\n",
      "       Else (feature 2 > 36.125)\n",
      "        Predict: 0.0\n",
      "\n"
     ]
    }
   ],
   "source": [
    "print(model1.toDebugString)"
   ]
  },
  {
   "cell_type": "code",
   "execution_count": 26,
   "metadata": {},
   "outputs": [
    {
     "data": {
      "text/plain": [
       "SparseVector(3, {0: 0.3178, 1: 0.1241, 2: 0.558})"
      ]
     },
     "execution_count": 26,
     "metadata": {},
     "output_type": "execute_result"
    }
   ],
   "source": [
    "model1.featureImportances"
   ]
  },
  {
   "cell_type": "code",
   "execution_count": 27,
   "metadata": {},
   "outputs": [
    {
     "data": {
      "text/plain": [
       "2"
      ]
     },
     "execution_count": 27,
     "metadata": {},
     "output_type": "execute_result"
    }
   ],
   "source": [
    "model1.numClasses"
   ]
  },
  {
   "cell_type": "code",
   "execution_count": 28,
   "metadata": {},
   "outputs": [
    {
     "data": {
      "text/plain": [
       "3"
      ]
     },
     "execution_count": 28,
     "metadata": {},
     "output_type": "execute_result"
    }
   ],
   "source": [
    "model1.numFeatures"
   ]
  },
  {
   "cell_type": "code",
   "execution_count": null,
   "metadata": {},
   "outputs": [],
   "source": []
  }
 ],
 "metadata": {
  "kernelspec": {
   "display_name": "Python 3",
   "language": "python",
   "name": "python3"
  },
  "language_info": {
   "codemirror_mode": {
    "name": "ipython",
    "version": 3
   },
   "file_extension": ".py",
   "mimetype": "text/x-python",
   "name": "python",
   "nbconvert_exporter": "python",
   "pygments_lexer": "ipython3",
   "version": "3.6.5"
  }
 },
 "nbformat": 4,
 "nbformat_minor": 2
}
